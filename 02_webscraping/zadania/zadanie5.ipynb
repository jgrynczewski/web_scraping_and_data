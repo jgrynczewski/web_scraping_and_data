{
 "cells": [
  {
   "cell_type": "markdown",
   "id": "1fec7b65-3e45-429c-939e-279c016dcf01",
   "metadata": {},
   "source": [
    "### [Quotes](https://quotes.toscrape.com/)"
   ]
  },
  {
   "cell_type": "markdown",
   "id": "bafb00a9-dc53-43f6-a90c-cc7cc08d9f0d",
   "metadata": {},
   "source": [
    "Napisz scrapera, który pobierze wszystkie cytaty znajdujące się na portalu https://quotes.toscrape.com/"
   ]
  },
  {
   "cell_type": "code",
   "execution_count": null,
   "id": "7fe4ddb7-4f19-4446-99b1-3434cdcc229b",
   "metadata": {},
   "outputs": [],
   "source": []
  }
 ],
 "metadata": {
  "kernelspec": {
   "display_name": "Python 3 (ipykernel)",
   "language": "python",
   "name": "python3"
  },
  "language_info": {
   "codemirror_mode": {
    "name": "ipython",
    "version": 3
   },
   "file_extension": ".py",
   "mimetype": "text/x-python",
   "name": "python",
   "nbconvert_exporter": "python",
   "pygments_lexer": "ipython3",
   "version": "3.12.8"
  }
 },
 "nbformat": 4,
 "nbformat_minor": 5
}
