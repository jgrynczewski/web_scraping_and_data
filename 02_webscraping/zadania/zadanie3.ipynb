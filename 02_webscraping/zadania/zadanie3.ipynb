{
 "cells": [
  {
   "cell_type": "markdown",
   "id": "2973828b-c422-446c-95e9-cad96d3e7043",
   "metadata": {},
   "source": [
    "### [IMDb](https://www.imdb.com/chart/top/)"
   ]
  },
  {
   "cell_type": "markdown",
   "id": "6ae08d9d-b4c0-4d0f-87b8-8728870287fe",
   "metadata": {},
   "source": [
    "Napisz program, który pobiera informacje o najpopularniejszych filmach z platformy IMDb i wyświetla je w formie DataFrame, zawierającej kolumny takie jak tytuł filmu, rok produkcji, ocena IMDb oraz główne gatunki."
   ]
  },
  {
   "cell_type": "code",
   "execution_count": null,
   "id": "2a04e9ec-50d5-43a5-aa7f-2f99339f7cf7",
   "metadata": {},
   "outputs": [],
   "source": []
  },
  {
   "cell_type": "code",
   "execution_count": null,
   "id": "1aeed3dd-0d60-489c-bad0-6fea7b4f2da5",
   "metadata": {},
   "outputs": [],
   "source": []
  },
  {
   "cell_type": "code",
   "execution_count": null,
   "id": "3b77a69d-c376-49be-941c-f92abb85f4b4",
   "metadata": {},
   "outputs": [],
   "source": []
  },
  {
   "cell_type": "code",
   "execution_count": null,
   "id": "00056a19-fe26-4eb9-adfe-a94d948c1108",
   "metadata": {},
   "outputs": [],
   "source": []
  }
 ],
 "metadata": {
  "kernelspec": {
   "display_name": "Python 3 (ipykernel)",
   "language": "python",
   "name": "python3"
  },
  "language_info": {
   "codemirror_mode": {
    "name": "ipython",
    "version": 3
   },
   "file_extension": ".py",
   "mimetype": "text/x-python",
   "name": "python",
   "nbconvert_exporter": "python",
   "pygments_lexer": "ipython3",
   "version": "3.12.8"
  }
 },
 "nbformat": 4,
 "nbformat_minor": 5
}
