{
 "cells": [
  {
   "cell_type": "markdown",
   "id": "07b82675-832d-4eb4-a785-6130b02e2393",
   "metadata": {},
   "source": [
    "### [BBC News](https://www.bbc.com/news)"
   ]
  },
  {
   "cell_type": "markdown",
   "id": "070dc18d-2cea-4b7d-b089-523e731536d1",
   "metadata": {},
   "source": [
    "Napisz program, który pobiera tytuły najnowszych artykułów z pierwszej strony BBC News i wyświetla je na ekranie."
   ]
  },
  {
   "cell_type": "code",
   "execution_count": null,
   "id": "89ff39b6-d70e-42b1-ba40-ee10d266afa1",
   "metadata": {},
   "outputs": [],
   "source": []
  },
  {
   "cell_type": "code",
   "execution_count": null,
   "id": "3ca4820c-f18c-45f0-93f1-5d9ee07f7bd9",
   "metadata": {},
   "outputs": [],
   "source": []
  }
 ],
 "metadata": {
  "kernelspec": {
   "display_name": "Python 3 (ipykernel)",
   "language": "python",
   "name": "python3"
  },
  "language_info": {
   "codemirror_mode": {
    "name": "ipython",
    "version": 3
   },
   "file_extension": ".py",
   "mimetype": "text/x-python",
   "name": "python",
   "nbconvert_exporter": "python",
   "pygments_lexer": "ipython3",
   "version": "3.12.8"
  }
 },
 "nbformat": 4,
 "nbformat_minor": 5
}
