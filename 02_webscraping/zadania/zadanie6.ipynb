{
 "cells": [
  {
   "cell_type": "markdown",
   "id": "1fec7b65-3e45-429c-939e-279c016dcf01",
   "metadata": {},
   "source": [
    "### Srapowanie wybranej strony"
   ]
  },
  {
   "cell_type": "markdown",
   "id": "bafb00a9-dc53-43f6-a90c-cc7cc08d9f0d",
   "metadata": {},
   "source": [
    "Wyciągnij dane z przez siebie wybranej strony. Niech będą to interesujące Cię informacje. Zeskrapowane dane zapisz do pliku.\n",
    "\n",
    "Propozycje stron:\n",
    "- https://nofluffjobs.com/\n",
    "- https://r.pl/\n",
    "- https://www.booking.com/"
   ]
  },
  {
   "cell_type": "code",
   "execution_count": null,
   "id": "8a7e9f86-0f12-4f30-902e-c2eb02b7d86c",
   "metadata": {},
   "outputs": [],
   "source": []
  }
 ],
 "metadata": {
  "kernelspec": {
   "display_name": "Python 3 (ipykernel)",
   "language": "python",
   "name": "python3"
  },
  "language_info": {
   "codemirror_mode": {
    "name": "ipython",
    "version": 3
   },
   "file_extension": ".py",
   "mimetype": "text/x-python",
   "name": "python",
   "nbconvert_exporter": "python",
   "pygments_lexer": "ipython3",
   "version": "3.12.8"
  }
 },
 "nbformat": 4,
 "nbformat_minor": 5
}
