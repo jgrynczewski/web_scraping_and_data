{
 "cells": [
  {
   "cell_type": "markdown",
   "id": "07b82675-832d-4eb4-a785-6130b02e2393",
   "metadata": {},
   "source": [
    "### Zadanie 1"
   ]
  },
  {
   "cell_type": "markdown",
   "id": "070dc18d-2cea-4b7d-b089-523e731536d1",
   "metadata": {},
   "source": [
    "Zadanie polega na przeanalizowaniu lokalnego pliku HTML zawierającego dane o książkach. W tym celu:\n",
    "1. Załaduj plik HTML (books.html).\n",
    "2. Wyciągnij wszystkie tytuły książek, autorów i ceny książek.\n",
    "3. Zapisz dane w postaci listy słowników, gdzie każdy słownik zawiera dane o książce (tytuł, autor, cena).\n",
    "4. Filtruj książki o cenie powyżej 30 zł.\n",
    "5. Wypisz wynik w postaci tabeli w konsoli (tytuł, autor, cena)."
   ]
  },
  {
   "cell_type": "code",
   "execution_count": null,
   "id": "89ff39b6-d70e-42b1-ba40-ee10d266afa1",
   "metadata": {},
   "outputs": [],
   "source": []
  }
 ],
 "metadata": {
  "kernelspec": {
   "display_name": "Python 3 (ipykernel)",
   "language": "python",
   "name": "python3"
  },
  "language_info": {
   "codemirror_mode": {
    "name": "ipython",
    "version": 3
   },
   "file_extension": ".py",
   "mimetype": "text/x-python",
   "name": "python",
   "nbconvert_exporter": "python",
   "pygments_lexer": "ipython3",
   "version": "3.12.8"
  }
 },
 "nbformat": 4,
 "nbformat_minor": 5
}
