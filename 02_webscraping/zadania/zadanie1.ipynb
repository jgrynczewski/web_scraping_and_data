{
 "cells": [
  {
   "cell_type": "markdown",
   "id": "07b82675-832d-4eb4-a785-6130b02e2393",
   "metadata": {},
   "source": [
    "### Zadanie 1"
   ]
  },
  {
   "cell_type": "markdown",
   "id": "070dc18d-2cea-4b7d-b089-523e731536d1",
   "metadata": {},
   "source": [
    "Zadanie polega na przeanalizowaniu lokalnego pliku HTML zawierającego dane o książkach. W tym celu:\n",
    "1. Załaduj plik HTML (books.html).\n",
    "2. Wyciągnij wszystkie tytuły książek, autorów i ceny książek.\n",
    "3. Zapisz dane w postaci listy słowników, gdzie każdy słownik zawiera dane o książce (tytuł, autor, cena).\n",
    "4. Filtruj książki o cenie powyżej 30 zł.\n",
    "5. Wypisz wynik w postaci tabeli w konsoli (tytuł, autor, cena)."
   ]
  },
  {
   "cell_type": "code",
   "execution_count": 3,
   "id": "89ff39b6-d70e-42b1-ba40-ee10d266afa1",
   "metadata": {},
   "outputs": [
    {
     "data": {
      "text/plain": [
       "<!DOCTYPE html>\n",
       "\n",
       "<html lang=\"pl\">\n",
       "<head>\n",
       "<meta charset=\"utf-8\"/>\n",
       "<meta content=\"width=device-width, initial-scale=1.0\" name=\"viewport\"/>\n",
       "<title>Lista książek</title>\n",
       "</head>\n",
       "<body>\n",
       "<h1>Lista książek</h1>\n",
       "<table id=\"book-list\">\n",
       "<thead>\n",
       "<tr>\n",
       "<th>Tytuł</th>\n",
       "<th>Autor</th>\n",
       "<th>Cena</th>\n",
       "</tr>\n",
       "</thead>\n",
       "<tbody>\n",
       "<tr>\n",
       "<td>Programowanie w Pythonie</td>\n",
       "<td>Jan Kowalski</td>\n",
       "<td>45.99</td>\n",
       "</tr>\n",
       "<tr>\n",
       "<td>Data Science od podstaw</td>\n",
       "<td>Alicja Nowak</td>\n",
       "<td>29.50</td>\n",
       "</tr>\n",
       "<tr>\n",
       "<td>Algorytmy i struktury danych</td>\n",
       "<td>Marek Zieliński</td>\n",
       "<td>35.00</td>\n",
       "</tr>\n",
       "<tr>\n",
       "<td>HTML i CSS - podręcznik</td>\n",
       "<td>Anna Wiśniewska</td>\n",
       "<td>19.99</td>\n",
       "</tr>\n",
       "</tbody>\n",
       "</table>\n",
       "</body>\n",
       "</html>"
      ]
     },
     "execution_count": 3,
     "metadata": {},
     "output_type": "execute_result"
    }
   ],
   "source": [
    "# 1.\n",
    "from bs4 import BeautifulSoup\n",
    "\n",
    "with open(\"books.html\", encoding=\"utf-8\") as f:\n",
    "    content = f.read()\n",
    "\n",
    "soup = BeautifulSoup(content, 'html.parser')\n",
    "soup"
   ]
  },
  {
   "cell_type": "code",
   "execution_count": 15,
   "id": "d76589a2-f8b8-4242-ae30-5a3af63bf4ab",
   "metadata": {},
   "outputs": [
    {
     "data": {
      "text/plain": [
       "[{'title': <td>Programowanie w Pythonie</td>,\n",
       "  'author': <td>Jan Kowalski</td>,\n",
       "  'price': <td>45.99</td>},\n",
       " {'title': <td>Data Science od podstaw</td>,\n",
       "  'author': <td>Alicja Nowak</td>,\n",
       "  'price': <td>29.50</td>},\n",
       " {'title': <td>Algorytmy i struktury danych</td>,\n",
       "  'author': <td>Marek Zieliński</td>,\n",
       "  'price': <td>35.00</td>},\n",
       " {'title': <td>HTML i CSS - podręcznik</td>,\n",
       "  'author': <td>Anna Wiśniewska</td>,\n",
       "  'price': <td>19.99</td>}]"
      ]
     },
     "execution_count": 15,
     "metadata": {},
     "output_type": "execute_result"
    }
   ],
   "source": [
    "# 2 i 3\n",
    "books = []\n",
    "\n",
    "rows = soup.find_all(\"tr\")\n",
    "for row in rows[1:]:\n",
    "    data = row.find_all('td')\n",
    "\n",
    "    title = data[0].text.strip()\n",
    "    author = data[1].text.strip()\n",
    "    price = data[2].text.strip()\n",
    "\n",
    "    book = {\n",
    "        \"title\": title,\n",
    "        \"author\": author,\n",
    "        \"price\": price\n",
    "    }\n",
    "    \n",
    "    books.append(book)\n",
    "\n",
    "books"
   ]
  },
  {
   "cell_type": "code",
   "execution_count": 14,
   "id": "81b667e8-24c7-40df-b1dd-7dcc0855f7eb",
   "metadata": {},
   "outputs": [
    {
     "name": "stdout",
     "output_type": "stream",
     "text": [
      "Programowanie w Pythonie, Jan Kowalski, 45.99$\n",
      "Algorytmy i struktury danych, Marek Zieliński, 35.00$\n"
     ]
    }
   ],
   "source": [
    "# 4 i 5\n",
    "for book in books:\n",
    "    if float(book[\"price\"]) > 30:\n",
    "        print(f\"{book['title']}, {book['author']}, {book['price']}$\")"
   ]
  }
 ],
 "metadata": {
  "kernelspec": {
   "display_name": "Python 3 (ipykernel)",
   "language": "python",
   "name": "python3"
  },
  "language_info": {
   "codemirror_mode": {
    "name": "ipython",
    "version": 3
   },
   "file_extension": ".py",
   "mimetype": "text/x-python",
   "name": "python",
   "nbconvert_exporter": "python",
   "pygments_lexer": "ipython3",
   "version": "3.12.8"
  }
 },
 "nbformat": 4,
 "nbformat_minor": 5
}
