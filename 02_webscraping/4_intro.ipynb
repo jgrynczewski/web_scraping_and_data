{
 "cells": [
  {
   "cell_type": "markdown",
   "id": "556caa3c-f74e-4287-bcf9-46d308cc6b62",
   "metadata": {},
   "source": [
    "### Praca z danymi nieustruktyzowanymi IV"
   ]
  },
  {
   "cell_type": "markdown",
   "id": "991521d0-ec82-4d77-8dff-a82ad272498e",
   "metadata": {},
   "source": [
    "Czasami trzeba obsłużyć paginację. Popatrzmy na przykład.\n",
    "\n",
    "https://books.toscrape.com/index.html"
   ]
  },
  {
   "cell_type": "code",
   "execution_count": null,
   "id": "1e1ea679-7989-4ac9-bc71-8cfc1b836ba0",
   "metadata": {},
   "outputs": [],
   "source": []
  },
  {
   "cell_type": "code",
   "execution_count": null,
   "id": "cf0c03f9-1e30-48b2-b617-fac99dfbdd80",
   "metadata": {},
   "outputs": [],
   "source": []
  },
  {
   "cell_type": "code",
   "execution_count": null,
   "id": "ab1ceb3b-fc3f-4424-8b1c-eafb52f01e22",
   "metadata": {
    "scrolled": true
   },
   "outputs": [],
   "source": []
  },
  {
   "cell_type": "markdown",
   "id": "68e7fe78-a976-458d-8610-e9c4fd2402b9",
   "metadata": {},
   "source": [
    "Widzimy, że na stronie wyświetla się tylko 20 pozycji, mimo że jest ich 1000. Na stronie widzimy też przycisk next. Żeby przejść do następnej strony, trzeba go przycisnąć. Ten button przekierowuje na inną stronę.\n",
    "\n",
    "Możemy to wszystko obsłużyć z poziomu pythona. Trzeba tylko dla aktualnie wyświetlanej strony zebrać wszystkie dane, a następnie znaleźć na jaki adres przekierowuje przycisk next, przejść na tę stronę i dalej zbierać dane. I tak w pętli aż na stronie nie będzie już przycisku `next`. Spróbujmy to zaimplementować."
   ]
  },
  {
   "cell_type": "code",
   "execution_count": null,
   "id": "95a79402-e6e6-4e27-9178-2eddcc3e1701",
   "metadata": {},
   "outputs": [],
   "source": []
  },
  {
   "cell_type": "code",
   "execution_count": null,
   "id": "722c4b4b-8ff5-488e-9012-9c55b11d2899",
   "metadata": {},
   "outputs": [],
   "source": []
  },
  {
   "cell_type": "code",
   "execution_count": null,
   "id": "8b0f9d8d-72ca-4354-b5c2-23841f8649d2",
   "metadata": {},
   "outputs": [],
   "source": []
  },
  {
   "cell_type": "markdown",
   "id": "948b0aee-0b79-402a-9ccc-89655a89d0de",
   "metadata": {},
   "source": [
    "Teraz znajdźmy link na który przekierowuje przycisk `next`"
   ]
  },
  {
   "cell_type": "code",
   "execution_count": null,
   "id": "1009c134-e02e-497f-b1a6-c346df6e4173",
   "metadata": {},
   "outputs": [],
   "source": []
  },
  {
   "cell_type": "markdown",
   "id": "3cf01739-090a-42f0-9faf-2a4bafb7df2e",
   "metadata": {},
   "source": [
    "I coś takiego chcemy robić w pętli dopóki `next_`."
   ]
  },
  {
   "cell_type": "code",
   "execution_count": null,
   "id": "05b5517c-f640-48df-aa84-518228ec1d6d",
   "metadata": {
    "scrolled": true
   },
   "outputs": [],
   "source": []
  },
  {
   "cell_type": "code",
   "execution_count": null,
   "id": "8aabcc4a-38fc-4ea6-a02f-5f8a666de3db",
   "metadata": {},
   "outputs": [],
   "source": []
  },
  {
   "cell_type": "code",
   "execution_count": null,
   "id": "9db3e72d-eaed-4227-881a-8d526d6bb7b8",
   "metadata": {},
   "outputs": [],
   "source": []
  },
  {
   "cell_type": "markdown",
   "id": "0f8f9c4a-cc00-4a8a-ab62-dc1ac58184ed",
   "metadata": {},
   "source": [
    "Zadanie 4"
   ]
  }
 ],
 "metadata": {
  "kernelspec": {
   "display_name": "Python 3 (ipykernel)",
   "language": "python",
   "name": "python3"
  },
  "language_info": {
   "codemirror_mode": {
    "name": "ipython",
    "version": 3
   },
   "file_extension": ".py",
   "mimetype": "text/x-python",
   "name": "python",
   "nbconvert_exporter": "python",
   "pygments_lexer": "ipython3",
   "version": "3.12.8"
  }
 },
 "nbformat": 4,
 "nbformat_minor": 5
}
