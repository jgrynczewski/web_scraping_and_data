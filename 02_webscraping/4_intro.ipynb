{
 "cells": [
  {
   "cell_type": "markdown",
   "id": "556caa3c-f74e-4287-bcf9-46d308cc6b62",
   "metadata": {},
   "source": [
    "### Praca z danymi nieustruktyzowanymi IV"
   ]
  },
  {
   "cell_type": "markdown",
   "id": "991521d0-ec82-4d77-8dff-a82ad272498e",
   "metadata": {},
   "source": [
    "Czasami trzeba obsłużyć paginację. Popatrzmy na przykład.\n",
    "\n",
    "https://books.toscrape.com/index.html"
   ]
  },
  {
   "cell_type": "code",
   "execution_count": 10,
   "id": "1e1ea679-7989-4ac9-bc71-8cfc1b836ba0",
   "metadata": {},
   "outputs": [],
   "source": [
    "import requests\n",
    "from bs4 import BeautifulSoup\n",
    "\n",
    "url = \"https://books.toscrape.com/catalogue/page-1.html\"\n",
    "response = requests.get(url)\n",
    "response.encoding = 'utf-8'\n",
    "soup = BeautifulSoup(response.text, 'html.parser')"
   ]
  },
  {
   "cell_type": "code",
   "execution_count": 7,
   "id": "cf0c03f9-1e30-48b2-b617-fac99dfbdd80",
   "metadata": {},
   "outputs": [
    {
     "data": {
      "text/plain": [
       "20"
      ]
     },
     "execution_count": 7,
     "metadata": {},
     "output_type": "execute_result"
    }
   ],
   "source": [
    "books = soup.find_all(class_=\"product_pod\")\n",
    "len(books)"
   ]
  },
  {
   "cell_type": "code",
   "execution_count": 8,
   "id": "ab1ceb3b-fc3f-4424-8b1c-eafb52f01e22",
   "metadata": {
    "scrolled": true
   },
   "outputs": [
    {
     "data": {
      "text/plain": [
       "[{'title': 'A Light in the Attic', 'price': '£51.77'},\n",
       " {'title': 'Tipping the Velvet', 'price': '£53.74'},\n",
       " {'title': 'Soumission', 'price': '£50.10'},\n",
       " {'title': 'Sharp Objects', 'price': '£47.82'},\n",
       " {'title': 'Sapiens: A Brief History of Humankind', 'price': '£54.23'},\n",
       " {'title': 'The Requiem Red', 'price': '£22.65'},\n",
       " {'title': 'The Dirty Little Secrets of Getting Your Dream Job',\n",
       "  'price': '£33.34'},\n",
       " {'title': 'The Coming Woman: A Novel Based on the Life of the Infamous Feminist, Victoria Woodhull',\n",
       "  'price': '£17.93'},\n",
       " {'title': 'The Boys in the Boat: Nine Americans and Their Epic Quest for Gold at the 1936 Berlin Olympics',\n",
       "  'price': '£22.60'},\n",
       " {'title': 'The Black Maria', 'price': '£52.15'},\n",
       " {'title': 'Starving Hearts (Triangular Trade Trilogy, #1)',\n",
       "  'price': '£13.99'},\n",
       " {'title': \"Shakespeare's Sonnets\", 'price': '£20.66'},\n",
       " {'title': 'Set Me Free', 'price': '£17.46'},\n",
       " {'title': \"Scott Pilgrim's Precious Little Life (Scott Pilgrim #1)\",\n",
       "  'price': '£52.29'},\n",
       " {'title': 'Rip it Up and Start Again', 'price': '£35.02'},\n",
       " {'title': 'Our Band Could Be Your Life: Scenes from the American Indie Underground, 1981-1991',\n",
       "  'price': '£57.25'},\n",
       " {'title': 'Olio', 'price': '£23.88'},\n",
       " {'title': 'Mesaerion: The Best Science Fiction Stories 1800-1849',\n",
       "  'price': '£37.59'},\n",
       " {'title': 'Libertarianism for Beginners', 'price': '£51.33'},\n",
       " {'title': \"It's Only the Himalayas\", 'price': '£45.17'}]"
      ]
     },
     "execution_count": 8,
     "metadata": {},
     "output_type": "execute_result"
    }
   ],
   "source": [
    "data = []\n",
    "for book in books:\n",
    "    title = book.select_one(\"h3 > a\").get(\"title\")\n",
    "    price = book.select_one(\".price_color\").text.strip()\n",
    "    data.append({\n",
    "        \"title\": title,\n",
    "        \"price\": price\n",
    "    })\n",
    "\n",
    "data"
   ]
  },
  {
   "cell_type": "markdown",
   "id": "68e7fe78-a976-458d-8610-e9c4fd2402b9",
   "metadata": {},
   "source": [
    "###### Widzimy, że na stronie wyświetla się tylko 20 pozycji, mimo że jest ich 1000. Na stronie widzimy też przycisk next. Żeby przejść do następnej strony, trzeba go przycisnąć. Ten button przekierowuje na inną stronę.\n",
    "\n",
    "Możemy to wszystko obsłużyć z poziomu pythona. Trzeba tylko dla aktualnie wyświetlanej strony zebrać wszystkie dane, a następnie znaleźć na jaki adres przekierowuje przycisk next, przejść na tę stronę i dalej zbierać dane. I tak w pętli aż na stronie nie będzie już przycisku `next`. Spróbujmy to zaimplementować."
   ]
  },
  {
   "cell_type": "code",
   "execution_count": 28,
   "id": "95a79402-e6e6-4e27-9178-2eddcc3e1701",
   "metadata": {},
   "outputs": [
    {
     "name": "stdout",
     "output_type": "stream",
     "text": [
      "page-2.html\n",
      "page-3.html\n",
      "page-4.html\n",
      "page-5.html\n",
      "page-6.html\n",
      "page-7.html\n",
      "page-8.html\n",
      "page-9.html\n",
      "page-10.html\n",
      "page-11.html\n",
      "page-12.html\n",
      "page-13.html\n",
      "page-14.html\n",
      "page-15.html\n",
      "page-16.html\n",
      "page-17.html\n",
      "page-18.html\n",
      "page-19.html\n",
      "page-20.html\n",
      "page-21.html\n",
      "page-22.html\n",
      "page-23.html\n",
      "page-24.html\n",
      "page-25.html\n",
      "page-26.html\n",
      "page-27.html\n",
      "page-28.html\n",
      "page-29.html\n",
      "page-30.html\n",
      "page-31.html\n",
      "page-32.html\n",
      "page-33.html\n",
      "page-34.html\n",
      "page-35.html\n",
      "page-36.html\n",
      "page-37.html\n",
      "page-38.html\n",
      "page-39.html\n",
      "page-40.html\n",
      "page-41.html\n",
      "page-42.html\n",
      "page-43.html\n",
      "page-44.html\n",
      "page-45.html\n",
      "page-46.html\n",
      "page-47.html\n",
      "page-48.html\n",
      "page-49.html\n",
      "page-50.html\n"
     ]
    }
   ],
   "source": [
    "import time\n",
    "import random\n",
    "\n",
    "import requests\n",
    "from bs4 import BeautifulSoup\n",
    "\n",
    "data = []\n",
    "\n",
    "url = \"https://books.toscrape.com/catalogue/\"\n",
    "next_ = \"page-1.html\"\n",
    "\n",
    "while next_:\n",
    "    response = requests.get(url + next_)\n",
    "    response.encoding = 'utf-8'\n",
    "    soup = BeautifulSoup(response.text, 'html.parser')\n",
    "    \n",
    "    books = soup.find_all(class_=\"product_pod\")\n",
    "    \n",
    "    \n",
    "    for book in books:\n",
    "        title = book.select_one(\"h3 > a\").get(\"title\")\n",
    "        price = book.select_one(\".price_color\").text.strip()\n",
    "        data.append({\n",
    "            \"title\": title,\n",
    "            \"price\": price\n",
    "        })\n",
    "        \n",
    "    next_ = soup.select_one('.next > a')\n",
    "    if next_:\n",
    "        next_ = next_.get(\"href\")\n",
    "        \n",
    "        print(next_)\n",
    "    \n",
    "    time.sleep(1 + random.random())"
   ]
  },
  {
   "cell_type": "code",
   "execution_count": 29,
   "id": "722c4b4b-8ff5-488e-9012-9c55b11d2899",
   "metadata": {},
   "outputs": [
    {
     "data": {
      "text/plain": [
       "1000"
      ]
     },
     "execution_count": 29,
     "metadata": {},
     "output_type": "execute_result"
    }
   ],
   "source": [
    "len(data)"
   ]
  },
  {
   "cell_type": "code",
   "execution_count": 30,
   "id": "8b0f9d8d-72ca-4354-b5c2-23841f8649d2",
   "metadata": {},
   "outputs": [
    {
     "data": {
      "text/plain": [
       "[{'title': 'A Light in the Attic', 'price': 'Â£51.77'},\n",
       " {'title': 'Tipping the Velvet', 'price': 'Â£53.74'},\n",
       " {'title': 'Soumission', 'price': 'Â£50.10'},\n",
       " {'title': 'Sharp Objects', 'price': 'Â£47.82'},\n",
       " {'title': 'Sapiens: A Brief History of Humankind', 'price': 'Â£54.23'}]"
      ]
     },
     "execution_count": 30,
     "metadata": {},
     "output_type": "execute_result"
    }
   ],
   "source": [
    "data[:5]"
   ]
  },
  {
   "cell_type": "code",
   "execution_count": 31,
   "id": "05b5517c-f640-48df-aa84-518228ec1d6d",
   "metadata": {
    "scrolled": true
   },
   "outputs": [
    {
     "data": {
      "text/plain": [
       "[{'title': \"Alice in Wonderland (Alice's Adventures in Wonderland #1)\",\n",
       "  'price': 'Â£55.53'},\n",
       " {'title': 'Ajin: Demi-Human, Volume 1 (Ajin: Demi-Human #1)',\n",
       "  'price': 'Â£57.06'},\n",
       " {'title': \"A Spy's Devotion (The Regency Spies of London #1)\",\n",
       "  'price': 'Â£16.97'},\n",
       " {'title': \"1st to Die (Women's Murder Club #1)\", 'price': 'Â£53.98'},\n",
       " {'title': '1,000 Places to See Before You Die', 'price': 'Â£26.08'}]"
      ]
     },
     "execution_count": 31,
     "metadata": {},
     "output_type": "execute_result"
    }
   ],
   "source": [
    "data[-5:]"
   ]
  },
  {
   "cell_type": "markdown",
   "id": "0f8f9c4a-cc00-4a8a-ab62-dc1ac58184ed",
   "metadata": {},
   "source": [
    "Do przećwiczenia.\n",
    "\n",
    "Rozbudować informacje o poszczególnych ksiązkach. Więcej informacji bierzemy ze strony z widoku szczegółu książki. Przykład: https://books.toscrape.com/catalogue/in-her-wake_980/index.html"
   ]
  }
 ],
 "metadata": {
  "kernelspec": {
   "display_name": "Python 3 (ipykernel)",
   "language": "python",
   "name": "python3"
  },
  "language_info": {
   "codemirror_mode": {
    "name": "ipython",
    "version": 3
   },
   "file_extension": ".py",
   "mimetype": "text/x-python",
   "name": "python",
   "nbconvert_exporter": "python",
   "pygments_lexer": "ipython3",
   "version": "3.12.8"
  }
 },
 "nbformat": 4,
 "nbformat_minor": 5
}
