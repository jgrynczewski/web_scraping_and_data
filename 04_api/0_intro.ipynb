{
 "cells": [
  {
   "cell_type": "markdown",
   "id": "c94ad4f7-b893-4ea6-9af2-a2690d1a7ec9",
   "metadata": {},
   "source": [
    "#### Wstęp na temat programownia webowego i biblioteki `requests`"
   ]
  },
  {
   "cell_type": "code",
   "execution_count": null,
   "id": "d64c3137-7be0-4dc3-9cec-93fa317e9e60",
   "metadata": {},
   "outputs": [],
   "source": []
  },
  {
   "cell_type": "code",
   "execution_count": null,
   "id": "526386ed-7dbd-4bff-bf7f-700ed8b5cfb4",
   "metadata": {},
   "outputs": [],
   "source": []
  },
  {
   "cell_type": "code",
   "execution_count": null,
   "id": "be94d315-a6ab-4121-9b9d-0af7e0906ee7",
   "metadata": {},
   "outputs": [],
   "source": []
  },
  {
   "cell_type": "code",
   "execution_count": null,
   "id": "e35ea5a7-4464-4fcc-877d-b2f16ca2c390",
   "metadata": {},
   "outputs": [],
   "source": []
  },
  {
   "cell_type": "code",
   "execution_count": null,
   "id": "50926765-b926-47d4-b467-03b7ab7bff72",
   "metadata": {
    "scrolled": true
   },
   "outputs": [],
   "source": []
  },
  {
   "cell_type": "code",
   "execution_count": null,
   "id": "2befd6f8-3dc2-4c64-9729-a1c440a7e25e",
   "metadata": {
    "scrolled": true
   },
   "outputs": [],
   "source": []
  },
  {
   "cell_type": "markdown",
   "id": "b8ad01f7-c88c-4723-a3dc-31d13aa9f4d4",
   "metadata": {},
   "source": [
    "Strony z listami dostępnych w sieci serwisów API (Application Programming Interface):\n",
    "- https://github.com/public-apis/public-apis\n",
    "- https://apipheny.io/free-api/\n",
    "- https://mixedanalytics.com/blog/list-actually-free-open-no-auth-needed-apis/\n",
    "- https://www.linkedin.com/pulse/21-open-free-apis-developers-vineet-prasad-1xfuc/\n"
   ]
  }
 ],
 "metadata": {
  "kernelspec": {
   "display_name": "Python 3 (ipykernel)",
   "language": "python",
   "name": "python3"
  },
  "language_info": {
   "codemirror_mode": {
    "name": "ipython",
    "version": 3
   },
   "file_extension": ".py",
   "mimetype": "text/x-python",
   "name": "python",
   "nbconvert_exporter": "python",
   "pygments_lexer": "ipython3",
   "version": "3.12.8"
  }
 },
 "nbformat": 4,
 "nbformat_minor": 5
}
