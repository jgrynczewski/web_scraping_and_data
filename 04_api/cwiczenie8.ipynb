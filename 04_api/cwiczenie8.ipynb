{
 "cells": [
  {
   "cell_type": "markdown",
   "id": "99b39320-9171-491c-b5b7-0e0b97d84ff7",
   "metadata": {},
   "source": [
    "### [PetStore](https://petstore.swagger.io/)\n",
    "\n",
    "Współczesnym standardem w dokumentowaniu api jest `OpenAPI`, którego najpopulerniejszą implementacją jest `Swagger`. Spójrzmy na przykład.\n"
   ]
  },
  {
   "cell_type": "code",
   "execution_count": null,
   "id": "8104e1ad-4cbf-4b0f-86a7-caf72b459fc4",
   "metadata": {
    "ExecuteTime": {
     "end_time": "2024-12-17T07:16:41.964889Z",
     "start_time": "2024-12-17T07:16:41.960062Z"
    }
   },
   "outputs": [],
   "source": [
    "import requests"
   ]
  },
  {
   "cell_type": "code",
   "execution_count": null,
   "id": "dec3ae1e5fd289db",
   "metadata": {
    "ExecuteTime": {
     "end_time": "2024-12-17T06:48:25.651454Z",
     "start_time": "2024-12-17T06:48:24.870500Z"
    }
   },
   "outputs": [],
   "source": [
    "# GET (R z CRUD)\n"
   ]
  },
  {
   "cell_type": "code",
   "execution_count": null,
   "id": "e7c8370316b3271a",
   "metadata": {
    "ExecuteTime": {
     "end_time": "2024-12-17T06:52:48.386236Z",
     "start_time": "2024-12-17T06:52:47.900026Z"
    }
   },
   "outputs": [],
   "source": [
    "# POST (C z CRUD)\n"
   ]
  },
  {
   "cell_type": "code",
   "execution_count": null,
   "id": "d5c1dd43f9afe6d8",
   "metadata": {
    "ExecuteTime": {
     "end_time": "2024-12-17T06:53:39.304568Z",
     "start_time": "2024-12-17T06:53:38.803218Z"
    }
   },
   "outputs": [],
   "source": [
    "# PUT (U z CRUD)\n"
   ]
  },
  {
   "cell_type": "code",
   "execution_count": null,
   "id": "1975f64ff5946365",
   "metadata": {
    "ExecuteTime": {
     "end_time": "2024-12-17T06:59:14.184276Z",
     "start_time": "2024-12-17T06:59:13.695859Z"
    }
   },
   "outputs": [],
   "source": [
    "# DELETE (D z CRUD)\n"
   ]
  },
  {
   "cell_type": "markdown",
   "id": "e3d1bdd727c08e14",
   "metadata": {},
   "source": [
    "Istnieją biblioteki generujące całego klienta na podstawie schematu (https://petstore.swagger.io/v2/swagger.json) swaggera.\n",
    "\n",
    "https://swagger.io/tools/swagger-codegen/\n",
    "\n",
    "https://github.com/openapi-generators/openapi-python-client\n"
   ]
  }
 ],
 "metadata": {
  "kernelspec": {
   "display_name": "Python 3 (ipykernel)",
   "language": "python",
   "name": "python3"
  },
  "language_info": {
   "codemirror_mode": {
    "name": "ipython",
    "version": 3
   },
   "file_extension": ".py",
   "mimetype": "text/x-python",
   "name": "python",
   "nbconvert_exporter": "python",
   "pygments_lexer": "ipython3",
   "version": "3.12.8"
  }
 },
 "nbformat": 4,
 "nbformat_minor": 5
}
