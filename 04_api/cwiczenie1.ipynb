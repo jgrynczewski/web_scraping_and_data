{
 "cells": [
  {
   "cell_type": "markdown",
   "id": "2920b910-1712-4429-a64f-cc22f9c7b44c",
   "metadata": {},
   "source": [
    "### [API Narodowego Banku Polskiego](https://api.nbp.pl/)\n",
    "\n",
    "Napisz program w Pythonie, który pobierze dane o kursach wymiany walut z API Narodowego Banku Polskiego pod adresem http://api.nbp.pl/api/exchangerates/tables/a/. Program powinien wyświetlić listę walut oraz ich kursy w stosunku do złotego polskiego (PLN)."
   ]
  },
  {
   "cell_type": "code",
   "execution_count": 2,
   "id": "60bb5e40-5a0f-4c49-860c-b6effd5df57a",
   "metadata": {
    "collapsed": true,
    "jupyter": {
     "outputs_hidden": true
    },
    "scrolled": true
   },
   "outputs": [
    {
     "data": {
      "text/plain": [
       "'[{\"table\":\"A\",\"no\":\"244/A/NBP/2024\",\"effectiveDate\":\"2024-12-17\",\"rates\":[{\"currency\":\"bat (Tajlandia)\",\"code\":\"THB\",\"mid\":0.1185},{\"currency\":\"dolar amerykański\",\"code\":\"USD\",\"mid\":4.0623},{\"currency\":\"dolar australijski\",\"code\":\"AUD\",\"mid\":2.5764},{\"currency\":\"dolar Hongkongu\",\"code\":\"HKD\",\"mid\":0.5230},{\"currency\":\"dolar kanadyjski\",\"code\":\"CAD\",\"mid\":2.8453},{\"currency\":\"dolar nowozelandzki\",\"code\":\"NZD\",\"mid\":2.3395},{\"currency\":\"dolar singapurski\",\"code\":\"SGD\",\"mid\":3.0074},{\"currency\":\"euro\",\"code\":\"EUR\",\"mid\":4.2599},{\"currency\":\"forint (Węgry)\",\"code\":\"HUF\",\"mid\":0.010414},{\"currency\":\"frank szwajcarski\",\"code\":\"CHF\",\"mid\":4.5270},{\"currency\":\"funt szterling\",\"code\":\"GBP\",\"mid\":5.1538},{\"currency\":\"hrywna (Ukraina)\",\"code\":\"UAH\",\"mid\":0.0971},{\"currency\":\"jen (Japonia)\",\"code\":\"JPY\",\"mid\":0.026416},{\"currency\":\"korona czeska\",\"code\":\"CZK\",\"mid\":0.1700},{\"currency\":\"korona duńska\",\"code\":\"DKK\",\"mid\":0.5711},{\"currency\":\"korona islandzka\",\"code\":\"ISK\",\"mid\":0.029358},{\"currency\":\"korona norweska\",\"code\":\"NOK\",\"mid\":0.3625},{\"currency\":\"korona szwedzka\",\"code\":\"SEK\",\"mid\":0.3714},{\"currency\":\"lej rumuński\",\"code\":\"RON\",\"mid\":0.8560},{\"currency\":\"lew (Bułgaria)\",\"code\":\"BGN\",\"mid\":2.1781},{\"currency\":\"lira turecka\",\"code\":\"TRY\",\"mid\":0.1163},{\"currency\":\"nowy izraelski szekel\",\"code\":\"ILS\",\"mid\":1.1282},{\"currency\":\"peso chilijskie\",\"code\":\"CLP\",\"mid\":0.004102},{\"currency\":\"peso filipińskie\",\"code\":\"PHP\",\"mid\":0.0688},{\"currency\":\"peso meksykańskie\",\"code\":\"MXN\",\"mid\":0.2016},{\"currency\":\"rand (Republika Południowej Afryki)\",\"code\":\"ZAR\",\"mid\":0.2256},{\"currency\":\"real (Brazylia)\",\"code\":\"BRL\",\"mid\":0.6607},{\"currency\":\"ringgit (Malezja)\",\"code\":\"MYR\",\"mid\":0.9095},{\"currency\":\"rupia indonezyjska\",\"code\":\"IDR\",\"mid\":0.00025286},{\"currency\":\"rupia indyjska\",\"code\":\"INR\",\"mid\":0.047852},{\"currency\":\"won południowokoreański\",\"code\":\"KRW\",\"mid\":0.002823},{\"currency\":\"yuan renminbi (Chiny)\",\"code\":\"CNY\",\"mid\":0.5576},{\"currency\":\"SDR (MFW)\",\"code\":\"XDR\",\"mid\":5.3187}]}]'"
      ]
     },
     "execution_count": 2,
     "metadata": {},
     "output_type": "execute_result"
    }
   ],
   "source": [
    "import requests\n",
    "\n",
    "url = \"https://api.nbp.pl/api/exchangerates/tables/a/\"\n",
    "response = requests.get(url)\n",
    "content = response.text\n",
    "content"
   ]
  },
  {
   "cell_type": "code",
   "execution_count": 3,
   "id": "37b1f6e8-66d6-4709-8f2e-73072b0390b4",
   "metadata": {},
   "outputs": [
    {
     "data": {
      "text/plain": [
       "[{'table': 'A',\n",
       "  'no': '244/A/NBP/2024',\n",
       "  'effectiveDate': '2024-12-17',\n",
       "  'rates': [{'currency': 'bat (Tajlandia)', 'code': 'THB', 'mid': 0.1185},\n",
       "   {'currency': 'dolar amerykański', 'code': 'USD', 'mid': 4.0623},\n",
       "   {'currency': 'dolar australijski', 'code': 'AUD', 'mid': 2.5764},\n",
       "   {'currency': 'dolar Hongkongu', 'code': 'HKD', 'mid': 0.523},\n",
       "   {'currency': 'dolar kanadyjski', 'code': 'CAD', 'mid': 2.8453},\n",
       "   {'currency': 'dolar nowozelandzki', 'code': 'NZD', 'mid': 2.3395},\n",
       "   {'currency': 'dolar singapurski', 'code': 'SGD', 'mid': 3.0074},\n",
       "   {'currency': 'euro', 'code': 'EUR', 'mid': 4.2599},\n",
       "   {'currency': 'forint (Węgry)', 'code': 'HUF', 'mid': 0.010414},\n",
       "   {'currency': 'frank szwajcarski', 'code': 'CHF', 'mid': 4.527},\n",
       "   {'currency': 'funt szterling', 'code': 'GBP', 'mid': 5.1538},\n",
       "   {'currency': 'hrywna (Ukraina)', 'code': 'UAH', 'mid': 0.0971},\n",
       "   {'currency': 'jen (Japonia)', 'code': 'JPY', 'mid': 0.026416},\n",
       "   {'currency': 'korona czeska', 'code': 'CZK', 'mid': 0.17},\n",
       "   {'currency': 'korona duńska', 'code': 'DKK', 'mid': 0.5711},\n",
       "   {'currency': 'korona islandzka', 'code': 'ISK', 'mid': 0.029358},\n",
       "   {'currency': 'korona norweska', 'code': 'NOK', 'mid': 0.3625},\n",
       "   {'currency': 'korona szwedzka', 'code': 'SEK', 'mid': 0.3714},\n",
       "   {'currency': 'lej rumuński', 'code': 'RON', 'mid': 0.856},\n",
       "   {'currency': 'lew (Bułgaria)', 'code': 'BGN', 'mid': 2.1781},\n",
       "   {'currency': 'lira turecka', 'code': 'TRY', 'mid': 0.1163},\n",
       "   {'currency': 'nowy izraelski szekel', 'code': 'ILS', 'mid': 1.1282},\n",
       "   {'currency': 'peso chilijskie', 'code': 'CLP', 'mid': 0.004102},\n",
       "   {'currency': 'peso filipińskie', 'code': 'PHP', 'mid': 0.0688},\n",
       "   {'currency': 'peso meksykańskie', 'code': 'MXN', 'mid': 0.2016},\n",
       "   {'currency': 'rand (Republika Południowej Afryki)',\n",
       "    'code': 'ZAR',\n",
       "    'mid': 0.2256},\n",
       "   {'currency': 'real (Brazylia)', 'code': 'BRL', 'mid': 0.6607},\n",
       "   {'currency': 'ringgit (Malezja)', 'code': 'MYR', 'mid': 0.9095},\n",
       "   {'currency': 'rupia indonezyjska', 'code': 'IDR', 'mid': 0.00025286},\n",
       "   {'currency': 'rupia indyjska', 'code': 'INR', 'mid': 0.047852},\n",
       "   {'currency': 'won południowokoreański', 'code': 'KRW', 'mid': 0.002823},\n",
       "   {'currency': 'yuan renminbi (Chiny)', 'code': 'CNY', 'mid': 0.5576},\n",
       "   {'currency': 'SDR (MFW)', 'code': 'XDR', 'mid': 5.3187}]}]"
      ]
     },
     "execution_count": 3,
     "metadata": {},
     "output_type": "execute_result"
    }
   ],
   "source": [
    "import json\n",
    "\n",
    "data = json.loads(content)\n",
    "data"
   ]
  },
  {
   "cell_type": "code",
   "execution_count": 4,
   "id": "58ce2bd5-368c-45dd-8368-8cf3fed2c4ee",
   "metadata": {},
   "outputs": [
    {
     "name": "stdout",
     "output_type": "stream",
     "text": [
      "bat (Tajlandia) [THB] 0.1185zl\n",
      "dolar amerykański [USD] 4.0623zl\n",
      "dolar australijski [AUD] 2.5764zl\n",
      "dolar Hongkongu [HKD] 0.523zl\n",
      "dolar kanadyjski [CAD] 2.8453zl\n",
      "dolar nowozelandzki [NZD] 2.3395zl\n",
      "dolar singapurski [SGD] 3.0074zl\n",
      "euro [EUR] 4.2599zl\n",
      "forint (Węgry) [HUF] 0.010414zl\n",
      "frank szwajcarski [CHF] 4.527zl\n",
      "funt szterling [GBP] 5.1538zl\n",
      "hrywna (Ukraina) [UAH] 0.0971zl\n",
      "jen (Japonia) [JPY] 0.026416zl\n",
      "korona czeska [CZK] 0.17zl\n",
      "korona duńska [DKK] 0.5711zl\n",
      "korona islandzka [ISK] 0.029358zl\n",
      "korona norweska [NOK] 0.3625zl\n",
      "korona szwedzka [SEK] 0.3714zl\n",
      "lej rumuński [RON] 0.856zl\n",
      "lew (Bułgaria) [BGN] 2.1781zl\n",
      "lira turecka [TRY] 0.1163zl\n",
      "nowy izraelski szekel [ILS] 1.1282zl\n",
      "peso chilijskie [CLP] 0.004102zl\n",
      "peso filipińskie [PHP] 0.0688zl\n",
      "peso meksykańskie [MXN] 0.2016zl\n",
      "rand (Republika Południowej Afryki) [ZAR] 0.2256zl\n",
      "real (Brazylia) [BRL] 0.6607zl\n",
      "ringgit (Malezja) [MYR] 0.9095zl\n",
      "rupia indonezyjska [IDR] 0.00025286zl\n",
      "rupia indyjska [INR] 0.047852zl\n",
      "won południowokoreański [KRW] 0.002823zl\n",
      "yuan renminbi (Chiny) [CNY] 0.5576zl\n",
      "SDR (MFW) [XDR] 5.3187zl\n"
     ]
    }
   ],
   "source": [
    "currencies = data[0]['rates']\n",
    "\n",
    "for currency in currencies:\n",
    "    print(f\"{currency['currency']} [{currency['code']}] {currency['mid']}zl\")"
   ]
  }
 ],
 "metadata": {
  "kernelspec": {
   "display_name": "Python 3 (ipykernel)",
   "language": "python",
   "name": "python3"
  },
  "language_info": {
   "codemirror_mode": {
    "name": "ipython",
    "version": 3
   },
   "file_extension": ".py",
   "mimetype": "text/x-python",
   "name": "python",
   "nbconvert_exporter": "python",
   "pygments_lexer": "ipython3",
   "version": "3.12.8"
  }
 },
 "nbformat": 4,
 "nbformat_minor": 5
}
