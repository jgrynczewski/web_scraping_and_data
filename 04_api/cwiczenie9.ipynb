{
 "cells": [
  {
   "cell_type": "markdown",
   "id": "99b39320-9171-491c-b5b7-0e0b97d84ff7",
   "metadata": {},
   "source": [
    "### [API GUS](https://api.stat.gov.pl/)\n",
    "\n",
    "API GUS to projekt składający się obecnie z 7 odrębnych API:\n",
    "- API SDP (Składnica Danych Publikacyjnych)\n",
    "- API DBW (Dziedzinowe Bazy Wiedzy)\n",
    "- API REGON (Rejestr REGON)\n",
    "- API TERYT (Rejestr TERYT)\n",
    "- API BDL (Bank Danych Lokalnych)\n",
    "- API SDG (Platforma SDG (Sustainable Development Goals))\n",
    "- API STRATEG (System STRATEG)\n",
    "\n",
    "Każde z API posiada swoje zestawy reguł dostępu oraz swojego swaggera. Popatrzmy na API STRATEG https://api.stat.gov.pl/Home/StrategApi.\n",
    "\n",
    "\"System STRATEG jest publicznie dostępnym, systemem wspierającym proces monitorowania rozwoju oraz ewaluację efektów podejmowanych działań na rzecz wzmocnienia spójności społecznej. Baza zawiera obszerny zestaw mierników kluczowych dla monitorowania rozwoju (głównie o rocznej częstotliwości) na poziomie kraju, jak również na niższych szczeblach podziału terytorialnego.\""
   ]
  },
  {
   "cell_type": "code",
   "execution_count": null,
   "id": "83ed5303-6a46-4090-b0ba-f5e7d9fcd0e3",
   "metadata": {},
   "outputs": [],
   "source": []
  }
 ],
 "metadata": {
  "kernelspec": {
   "display_name": "Python 3 (ipykernel)",
   "language": "python",
   "name": "python3"
  },
  "language_info": {
   "codemirror_mode": {
    "name": "ipython",
    "version": 3
   },
   "file_extension": ".py",
   "mimetype": "text/x-python",
   "name": "python",
   "nbconvert_exporter": "python",
   "pygments_lexer": "ipython3",
   "version": "3.12.8"
  }
 },
 "nbformat": 4,
 "nbformat_minor": 5
}
