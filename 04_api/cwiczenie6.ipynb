{
 "cells": [
  {
   "cell_type": "markdown",
   "id": "99b39320-9171-491c-b5b7-0e0b97d84ff7",
   "metadata": {},
   "source": [
    "### [Fixer API](https://apilayer.com/marketplace/fixer-api)\n",
    "\n",
    "Fixer API to jedno z wielu dostępnych na portalu [API Layer](https://apilayer.com/) serwisów. Udostępnia informacje na temat aktualnych kursów walut. Jak wszystkie serwisy na portalu API Layer jest odpłatne, ale posiada bezpłatną wersję z kilkoma podstawowymi funkcji. Wykorzystując podstawowe funkcje Fixer API napisz program w Pythonie, który będzie przeliczał podaną jako pierwszy parametr kwotę w złotówkach na kwotę w podanej jako drugi parametr walucie. \n",
    "\n",
    "1. Za pomocą funkcji `input` zapytaj użytkownika o to, na jaką walutę chciałby przeliczyć złotówki.\n",
    "2. Zapytaj użytkownika o kwotę, jaką chciałby przeliczyć. Załóż, że użytkownik poprawnie poda walutę, np. `USD`.\n",
    "3. Za pomocą biblioteki `requests` zapytaj o aktualny kurs podanej waluty względem `PLN`. Otrzymany kurs użyj w obliczeniach, aby przeliczyć podaną kwotę na wybraną walutę, i wyświetl wynik w formie:\n",
    "\n",
    "```\n",
    "<PODANA KWOTA> PLN = <OBLICZONA KWOTA> <PODANA WALUTA>\n",
    "```\n",
    "\n",
    "Np. jeśli użytkownik poda `USD` oraz `1000`:\n",
    "\n",
    "```\n",
    "1000 PLN = 269.44 USD\n",
    "```\n",
    "\n",
    "Wynik zaokrąglij do dwóch miejsc po przecinku za pomocą funkcji `round`.\n",
    "\n",
    "#### Dodatkowo\n",
    "\n",
    "Przetestuj swój kod, podając walutę która nie istnieje. Jeśli użytkownik poda `LOL` oraz `1000` powinien otrzymać informację zwrotną postaci:\n",
    "\n",
    "```\n",
    "Nie ma takiej waluty!\n",
    "```"
   ]
  },
  {
   "cell_type": "code",
   "execution_count": null,
   "id": "8104e1ad-4cbf-4b0f-86a7-caf72b459fc4",
   "metadata": {},
   "outputs": [],
   "source": []
  }
 ],
 "metadata": {
  "kernelspec": {
   "display_name": "Python 3 (ipykernel)",
   "language": "python",
   "name": "python3"
  },
  "language_info": {
   "codemirror_mode": {
    "name": "ipython",
    "version": 3
   },
   "file_extension": ".py",
   "mimetype": "text/x-python",
   "name": "python",
   "nbconvert_exporter": "python",
   "pygments_lexer": "ipython3",
   "version": "3.12.8"
  }
 },
 "nbformat": 4,
 "nbformat_minor": 5
}
