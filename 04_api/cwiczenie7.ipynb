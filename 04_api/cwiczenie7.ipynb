{
 "cells": [
  {
   "cell_type": "markdown",
   "id": "99b39320-9171-491c-b5b7-0e0b97d84ff7",
   "metadata": {},
   "source": [
    "### [ReqRes](https://reqres.in/)\n",
    "\n",
    "Do tej pory mówiliśmy tylko o metodzie `GET` która służy do odczytu informacji o zasobie, ale istnieją inne:\n",
    "- `POST` tworzenie zasobu\n",
    "- `PUT` aktualizacja zasobu (pełna aktualizacja - jeżeli jakieś pole nie zostanie podane, to w ramach aktualizacji najprawdopodbniej zostanie nadpisane pustą wartością)\n",
    "- `PATCH` - aktualizacja (częściowa) zasobu\n",
    "- `DELETE` - usunięcie zasobu\n",
    "\n",
    "Komplet metod tworzy interfejs CRUD (Create, Read, Update, Delete).\n"
   ]
  },
  {
   "cell_type": "code",
   "execution_count": null,
   "id": "8104e1ad-4cbf-4b0f-86a7-caf72b459fc4",
   "metadata": {
    "ExecuteTime": {
     "end_time": "2024-12-17T07:02:24.928352Z",
     "start_time": "2024-12-17T07:02:24.593918Z"
    }
   },
   "outputs": [],
   "source": []
  },
  {
   "cell_type": "code",
   "execution_count": null,
   "id": "dec3ae1e5fd289db",
   "metadata": {
    "ExecuteTime": {
     "end_time": "2024-12-17T07:03:24.798157Z",
     "start_time": "2024-12-17T07:03:24.713738Z"
    }
   },
   "outputs": [],
   "source": [
    "# GET (R z CRUD)\n"
   ]
  },
  {
   "cell_type": "code",
   "execution_count": null,
   "id": "af0d97677ca13e15",
   "metadata": {
    "ExecuteTime": {
     "end_time": "2024-12-17T07:05:48.539369Z",
     "start_time": "2024-12-17T07:05:48.457111Z"
    }
   },
   "outputs": [],
   "source": [
    "# ale to tylko pierwsza strona. Tego może być dużo stąd parametr do paginacji (`page`), w odpowiedzi możemy odnaleźć więcej szczegółów związanych z paginacją. # Uderzmy na drugą stronę.\n"
   ]
  },
  {
   "cell_type": "code",
   "execution_count": null,
   "id": "e7c8370316b3271a",
   "metadata": {
    "ExecuteTime": {
     "end_time": "2024-12-17T07:06:26.980604Z",
     "start_time": "2024-12-17T07:06:26.782706Z"
    }
   },
   "outputs": [],
   "source": [
    "# POST (C z CRUD)\n"
   ]
  },
  {
   "cell_type": "code",
   "execution_count": null,
   "id": "d5c1dd43f9afe6d8",
   "metadata": {
    "ExecuteTime": {
     "end_time": "2024-12-17T07:08:43.109313Z",
     "start_time": "2024-12-17T07:08:42.887791Z"
    }
   },
   "outputs": [],
   "source": [
    "# PUT (U z CRUD)\n"
   ]
  },
  {
   "cell_type": "code",
   "execution_count": null,
   "id": "c2db47c82f1d32d6",
   "metadata": {
    "ExecuteTime": {
     "end_time": "2024-12-17T07:11:29.219666Z",
     "start_time": "2024-12-17T07:11:29.004054Z"
    }
   },
   "outputs": [],
   "source": [
    "# A co jak zrobimy update tylko jednego pola ?\n"
   ]
  },
  {
   "cell_type": "code",
   "execution_count": null,
   "id": "a4f0981298a4d60",
   "metadata": {
    "ExecuteTime": {
     "end_time": "2024-12-17T07:12:55.396208Z",
     "start_time": "2024-12-17T07:12:55.155355Z"
    }
   },
   "outputs": [],
   "source": [
    "# PATCH (U z CRUD)\n"
   ]
  },
  {
   "cell_type": "code",
   "execution_count": null,
   "id": "1975f64ff5946365",
   "metadata": {
    "ExecuteTime": {
     "end_time": "2024-12-17T07:13:36.416935Z",
     "start_time": "2024-12-17T07:13:35.854463Z"
    }
   },
   "outputs": [],
   "source": [
    "# DELETE (D z CRUD)\n"
   ]
  }
 ],
 "metadata": {
  "kernelspec": {
   "display_name": "Python 3 (ipykernel)",
   "language": "python",
   "name": "python3"
  },
  "language_info": {
   "codemirror_mode": {
    "name": "ipython",
    "version": 3
   },
   "file_extension": ".py",
   "mimetype": "text/x-python",
   "name": "python",
   "nbconvert_exporter": "python",
   "pygments_lexer": "ipython3",
   "version": "3.12.8"
  }
 },
 "nbformat": 4,
 "nbformat_minor": 5
}
