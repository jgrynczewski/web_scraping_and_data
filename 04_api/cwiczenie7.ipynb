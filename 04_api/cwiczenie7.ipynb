{
 "cells": [
  {
   "cell_type": "markdown",
   "id": "99b39320-9171-491c-b5b7-0e0b97d84ff7",
   "metadata": {},
   "source": [
    "### [ReqRes](https://reqres.in/)\n",
    "\n",
    "Do tej pory mówiliśmy tylko o metodzie `GET` która służy do odczytu informacji o zasobie, ale istnieją inne:\n",
    "- `POST` tworzenie zasobu\n",
    "- `PUT` aktualizacja zasobu (pełna aktualizacja - jeżeli jakieś pole nie zostanie podane, to w ramach aktualizacji najprawdopodbniej zostanie nadpisane pustą wartością)\n",
    "- `PATCH` - aktualizacja (częściowa) zasobu\n",
    "- `DELETE` - usunięcie zasobu\n",
    "\n",
    "Komplet metod tworzy interfejs CRUD (Create, Read, Update, Delete).\n"
   ]
  },
  {
   "cell_type": "code",
   "execution_count": 17,
   "id": "8104e1ad-4cbf-4b0f-86a7-caf72b459fc4",
   "metadata": {
    "ExecuteTime": {
     "end_time": "2024-12-17T07:02:24.928352Z",
     "start_time": "2024-12-17T07:02:24.593918Z"
    }
   },
   "outputs": [],
   "source": [
    "import requests\n",
    "\n",
    "url = \"https://reqres.in/api/users\""
   ]
  },
  {
   "cell_type": "code",
   "execution_count": 18,
   "id": "dec3ae1e5fd289db",
   "metadata": {
    "ExecuteTime": {
     "end_time": "2024-12-17T07:03:24.798157Z",
     "start_time": "2024-12-17T07:03:24.713738Z"
    }
   },
   "outputs": [
    {
     "data": {
      "text/plain": [
       "{'page': 1,\n",
       " 'per_page': 6,\n",
       " 'total': 12,\n",
       " 'total_pages': 2,\n",
       " 'data': [{'id': 1,\n",
       "   'email': 'george.bluth@reqres.in',\n",
       "   'first_name': 'George',\n",
       "   'last_name': 'Bluth',\n",
       "   'avatar': 'https://reqres.in/img/faces/1-image.jpg'},\n",
       "  {'id': 2,\n",
       "   'email': 'janet.weaver@reqres.in',\n",
       "   'first_name': 'Janet',\n",
       "   'last_name': 'Weaver',\n",
       "   'avatar': 'https://reqres.in/img/faces/2-image.jpg'},\n",
       "  {'id': 3,\n",
       "   'email': 'emma.wong@reqres.in',\n",
       "   'first_name': 'Emma',\n",
       "   'last_name': 'Wong',\n",
       "   'avatar': 'https://reqres.in/img/faces/3-image.jpg'},\n",
       "  {'id': 4,\n",
       "   'email': 'eve.holt@reqres.in',\n",
       "   'first_name': 'Eve',\n",
       "   'last_name': 'Holt',\n",
       "   'avatar': 'https://reqres.in/img/faces/4-image.jpg'},\n",
       "  {'id': 5,\n",
       "   'email': 'charles.morris@reqres.in',\n",
       "   'first_name': 'Charles',\n",
       "   'last_name': 'Morris',\n",
       "   'avatar': 'https://reqres.in/img/faces/5-image.jpg'},\n",
       "  {'id': 6,\n",
       "   'email': 'tracey.ramos@reqres.in',\n",
       "   'first_name': 'Tracey',\n",
       "   'last_name': 'Ramos',\n",
       "   'avatar': 'https://reqres.in/img/faces/6-image.jpg'}],\n",
       " 'support': {'url': 'https://contentcaddy.io?utm_source=reqres&utm_medium=json&utm_campaign=referral',\n",
       "  'text': 'Tired of writing endless social media content? Let Content Caddy generate it for you.'}}"
      ]
     },
     "execution_count": 18,
     "metadata": {},
     "output_type": "execute_result"
    }
   ],
   "source": [
    "# GET (R z CRUD)\n",
    "response = requests.get(url)\n",
    "response.json()"
   ]
  },
  {
   "cell_type": "code",
   "execution_count": 3,
   "id": "af0d97677ca13e15",
   "metadata": {
    "ExecuteTime": {
     "end_time": "2024-12-17T07:05:48.539369Z",
     "start_time": "2024-12-17T07:05:48.457111Z"
    }
   },
   "outputs": [
    {
     "data": {
      "text/plain": [
       "{'page': 2,\n",
       " 'per_page': 6,\n",
       " 'total': 12,\n",
       " 'total_pages': 2,\n",
       " 'data': [{'id': 7,\n",
       "   'email': 'michael.lawson@reqres.in',\n",
       "   'first_name': 'Michael',\n",
       "   'last_name': 'Lawson',\n",
       "   'avatar': 'https://reqres.in/img/faces/7-image.jpg'},\n",
       "  {'id': 8,\n",
       "   'email': 'lindsay.ferguson@reqres.in',\n",
       "   'first_name': 'Lindsay',\n",
       "   'last_name': 'Ferguson',\n",
       "   'avatar': 'https://reqres.in/img/faces/8-image.jpg'},\n",
       "  {'id': 9,\n",
       "   'email': 'tobias.funke@reqres.in',\n",
       "   'first_name': 'Tobias',\n",
       "   'last_name': 'Funke',\n",
       "   'avatar': 'https://reqres.in/img/faces/9-image.jpg'},\n",
       "  {'id': 10,\n",
       "   'email': 'byron.fields@reqres.in',\n",
       "   'first_name': 'Byron',\n",
       "   'last_name': 'Fields',\n",
       "   'avatar': 'https://reqres.in/img/faces/10-image.jpg'},\n",
       "  {'id': 11,\n",
       "   'email': 'george.edwards@reqres.in',\n",
       "   'first_name': 'George',\n",
       "   'last_name': 'Edwards',\n",
       "   'avatar': 'https://reqres.in/img/faces/11-image.jpg'},\n",
       "  {'id': 12,\n",
       "   'email': 'rachel.howell@reqres.in',\n",
       "   'first_name': 'Rachel',\n",
       "   'last_name': 'Howell',\n",
       "   'avatar': 'https://reqres.in/img/faces/12-image.jpg'}],\n",
       " 'support': {'url': 'https://contentcaddy.io?utm_source=reqres&utm_medium=json&utm_campaign=referral',\n",
       "  'text': 'Tired of writing endless social media content? Let Content Caddy generate it for you.'}}"
      ]
     },
     "execution_count": 3,
     "metadata": {},
     "output_type": "execute_result"
    }
   ],
   "source": [
    "# ale to tylko pierwsza strona. Tego może być dużo stąd parametr do paginacji (`page`), w odpowiedzi możemy odnaleźć więcej szczegółów związanych z paginacją. # Uderzmy na drugą stronę.\n",
    "params = {\n",
    "    \"page\": 2\n",
    "}\n",
    "\n",
    "response = requests.get(url, params=params)  # dane metody get przekazujemy w parametrze param\n",
    "response.json()"
   ]
  },
  {
   "cell_type": "code",
   "execution_count": 10,
   "id": "e7c8370316b3271a",
   "metadata": {
    "ExecuteTime": {
     "end_time": "2024-12-17T07:06:26.980604Z",
     "start_time": "2024-12-17T07:06:26.782706Z"
    }
   },
   "outputs": [
    {
     "data": {
      "text/plain": [
       "{'name': 'morpheus',\n",
       " 'job': 'leader',\n",
       " 'id': '97',\n",
       " 'createdAt': '2024-12-17T15:36:51.288Z'}"
      ]
     },
     "execution_count": 10,
     "metadata": {},
     "output_type": "execute_result"
    }
   ],
   "source": [
    "# POST (C z CRUD)\n",
    "import json\n",
    "\n",
    "headers = {\n",
    "    \"Content-Type\": \"application/json\"\n",
    "}\n",
    "data = {\n",
    "    \"name\": \"morpheus\",\n",
    "    \"job\": \"leader\"\n",
    "}\n",
    "json_data = json.dumps(data)\n",
    "\n",
    "response = requests.post(url, data=json_data, headers=headers)  # dane pozostałych metod przekazujemy w parametrze data\n",
    "response.json()"
   ]
  },
  {
   "cell_type": "code",
   "execution_count": 11,
   "id": "a85240e9-5257-4ddd-a1cf-b6340921d393",
   "metadata": {},
   "outputs": [
    {
     "data": {
      "text/plain": [
       "{'name': 'morpheus',\n",
       " 'job': 'leader',\n",
       " 'id': '166',\n",
       " 'createdAt': '2024-12-17T15:38:04.219Z'}"
      ]
     },
     "execution_count": 11,
     "metadata": {},
     "output_type": "execute_result"
    }
   ],
   "source": [
    "data = {\n",
    "    \"name\": \"morpheus\",\n",
    "    \"job\": \"leader\"\n",
    "}\n",
    "\n",
    "response = requests.post(url, json=data)  # lub json\n",
    "response.json()"
   ]
  },
  {
   "cell_type": "code",
   "execution_count": 19,
   "id": "d5c1dd43f9afe6d8",
   "metadata": {
    "ExecuteTime": {
     "end_time": "2024-12-17T07:08:43.109313Z",
     "start_time": "2024-12-17T07:08:42.887791Z"
    }
   },
   "outputs": [
    {
     "data": {
      "text/plain": [
       "{'name': 'morpheus',\n",
       " 'job': 'zion resident',\n",
       " 'updatedAt': '2024-12-17T15:44:19.833Z'}"
      ]
     },
     "execution_count": 19,
     "metadata": {},
     "output_type": "execute_result"
    }
   ],
   "source": [
    "# PUT (U z CRUD)\n",
    "user_id = 2\n",
    "url = f\"{url}/{user_id}\"\n",
    "\n",
    "data = {\n",
    "    \"name\": \"morpheus\",\n",
    "    \"job\": \"zion resident\"\n",
    "}\n",
    "\n",
    "response = requests.put(url, json=data)\n",
    "response.json()"
   ]
  },
  {
   "cell_type": "code",
   "execution_count": 20,
   "id": "c2db47c82f1d32d6",
   "metadata": {
    "ExecuteTime": {
     "end_time": "2024-12-17T07:11:29.219666Z",
     "start_time": "2024-12-17T07:11:29.004054Z"
    }
   },
   "outputs": [
    {
     "data": {
      "text/plain": [
       "{'name': 'janet', 'updatedAt': '2024-12-17T15:45:08.772Z'}"
      ]
     },
     "execution_count": 20,
     "metadata": {},
     "output_type": "execute_result"
    }
   ],
   "source": [
    "# A co jak zrobimy update tylko jednego pola ?\n",
    "data = {\n",
    "    \"name\": \"janet\",\n",
    "}\n",
    "\n",
    "response = requests.put(url, json=data)\n",
    "response.json()"
   ]
  },
  {
   "cell_type": "code",
   "execution_count": 21,
   "id": "a4f0981298a4d60",
   "metadata": {
    "ExecuteTime": {
     "end_time": "2024-12-17T07:12:55.396208Z",
     "start_time": "2024-12-17T07:12:55.155355Z"
    }
   },
   "outputs": [
    {
     "data": {
      "text/plain": [
       "{'name': 'janet', 'updatedAt': '2024-12-17T15:46:10.189Z'}"
      ]
     },
     "execution_count": 21,
     "metadata": {},
     "output_type": "execute_result"
    }
   ],
   "source": [
    "# PATCH (U z CRUD)\n",
    "data = {\n",
    "    \"name\": \"janet\",\n",
    "}\n",
    "\n",
    "response = requests.patch(url, json=data)\n",
    "response.json()"
   ]
  },
  {
   "cell_type": "code",
   "execution_count": 24,
   "id": "1975f64ff5946365",
   "metadata": {
    "ExecuteTime": {
     "end_time": "2024-12-17T07:13:36.416935Z",
     "start_time": "2024-12-17T07:13:35.854463Z"
    }
   },
   "outputs": [
    {
     "data": {
      "text/plain": [
       "<Response [204]>"
      ]
     },
     "execution_count": 24,
     "metadata": {},
     "output_type": "execute_result"
    }
   ],
   "source": [
    "# DELETE (D z CRUD)\n",
    "response = requests.delete(url)\n",
    "response"
   ]
  }
 ],
 "metadata": {
  "kernelspec": {
   "display_name": "Python 3 (ipykernel)",
   "language": "python",
   "name": "python3"
  },
  "language_info": {
   "codemirror_mode": {
    "name": "ipython",
    "version": 3
   },
   "file_extension": ".py",
   "mimetype": "text/x-python",
   "name": "python",
   "nbconvert_exporter": "python",
   "pygments_lexer": "ipython3",
   "version": "3.12.8"
  }
 },
 "nbformat": 4,
 "nbformat_minor": 5
}
