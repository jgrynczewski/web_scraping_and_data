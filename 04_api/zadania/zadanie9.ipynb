{
 "cells": [
  {
   "cell_type": "markdown",
   "id": "321a6c85-5c80-4b61-964c-baac72186314",
   "metadata": {},
   "source": [
    "### [{JSON} Placeholder](https://jsonplaceholder.typicode.com/)"
   ]
  },
  {
   "cell_type": "markdown",
   "id": "043b3ff2-4702-494d-8e8d-a2e132291d40",
   "metadata": {},
   "source": [
    "Napisz program w Pythonie, który utworzy nowy post na serwerze za pomocą API \"JSONPlaceholder\". Program powinien umożliwić użytkownikowi podanie tytułu i treści posta, a następnie wysłać te dane jako JSON do API **metodą POST** i wyświetlić odpowiedź serwera. Następnie skonsumuj pełnego CRUD tego api."
   ]
  },
  {
   "cell_type": "markdown",
   "id": "2100cf42-dd45-453a-b8c4-a87833b8ab14",
   "metadata": {},
   "source": [
    "1. Poproś użytkownika o podanie tytułu i treści posta."
   ]
  },
  {
   "cell_type": "code",
   "execution_count": null,
   "id": "01971e78-8cd4-44dd-ae1b-565cfb28f398",
   "metadata": {},
   "outputs": [],
   "source": [
    "# Pobranie tytułu i treści posta od użytkownika\n"
   ]
  },
  {
   "cell_type": "markdown",
   "id": "eff48afa-0356-4b79-96ab-c1a230453d3e",
   "metadata": {},
   "source": [
    "2. Przygotuj dane w formacie JSON."
   ]
  },
  {
   "cell_type": "code",
   "execution_count": null,
   "id": "0093d0de-5ba2-4170-85de-f8ace9898ea1",
   "metadata": {},
   "outputs": [],
   "source": [
    "# Dane do wysłania jako JSON\n"
   ]
  },
  {
   "cell_type": "markdown",
   "id": "72630f02-20eb-42a9-a5e6-f7aeb86ec1d7",
   "metadata": {},
   "source": [
    "3. Wyślij dane do API \"JSONPlaceholder\""
   ]
  },
  {
   "cell_type": "code",
   "execution_count": null,
   "id": "4256fe60-4c0f-4af2-9d20-0a7798c21355",
   "metadata": {},
   "outputs": [],
   "source": [
    "\n"
   ]
  },
  {
   "cell_type": "markdown",
   "id": "62bc0b64-a16a-471e-85f3-50c42088c596",
   "metadata": {},
   "source": [
    "4. Zparsuj otrzymane dane JSON oraz wyświetl odpowiedź serwera."
   ]
  },
  {
   "cell_type": "code",
   "execution_count": null,
   "id": "7f0e1149-6d78-43ba-821d-cd81eef1937a",
   "metadata": {},
   "outputs": [],
   "source": [
    "\n"
   ]
  },
  {
   "cell_type": "markdown",
   "id": "e42062ae-a851-4705-aeea-9b2086010087",
   "metadata": {},
   "source": [
    "5. GET"
   ]
  },
  {
   "cell_type": "code",
   "execution_count": null,
   "id": "b6d2e69e-d251-48ee-a039-f0a986d92b7f",
   "metadata": {},
   "outputs": [],
   "source": []
  },
  {
   "cell_type": "markdown",
   "id": "f7be6188-49b0-408f-8f31-5576eee3c1bf",
   "metadata": {},
   "source": [
    "6. PUT"
   ]
  },
  {
   "cell_type": "code",
   "execution_count": null,
   "id": "10551f91-336a-4764-8516-b292c56fd393",
   "metadata": {},
   "outputs": [],
   "source": []
  },
  {
   "cell_type": "markdown",
   "id": "1d03c8f3-cdad-498c-b694-ab1f4c47a824",
   "metadata": {},
   "source": [
    "7. PATCH"
   ]
  },
  {
   "cell_type": "code",
   "execution_count": null,
   "id": "28cb3783-e149-4426-a04d-239fb65dfaa1",
   "metadata": {},
   "outputs": [],
   "source": []
  },
  {
   "cell_type": "markdown",
   "id": "49a2d711-2992-4542-a9f2-191f8ba7e0d9",
   "metadata": {},
   "source": [
    "8. DELETE"
   ]
  },
  {
   "cell_type": "code",
   "execution_count": null,
   "id": "530dc2ee-59ad-40ab-8cfa-82f8a4d5476d",
   "metadata": {},
   "outputs": [],
   "source": []
  }
 ],
 "metadata": {
  "kernelspec": {
   "display_name": "Python 3 (ipykernel)",
   "language": "python",
   "name": "python3"
  },
  "language_info": {
   "codemirror_mode": {
    "name": "ipython",
    "version": 3
   },
   "file_extension": ".py",
   "mimetype": "text/x-python",
   "name": "python",
   "nbconvert_exporter": "python",
   "pygments_lexer": "ipython3",
   "version": "3.12.8"
  }
 },
 "nbformat": 4,
 "nbformat_minor": 5
}
