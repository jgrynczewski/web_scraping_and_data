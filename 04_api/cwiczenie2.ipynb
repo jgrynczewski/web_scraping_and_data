{
 "cells": [
  {
   "cell_type": "markdown",
   "id": "fde16f88-cc2b-4635-94d6-be23b57cbec4",
   "metadata": {},
   "source": [
    "### [Dog CEO's Dog API](https://dog.ceo/dog-api/)\n",
    "\n",
    "Napisz program w Pythonie, który pobierze losowy obrazek psa z publicznego API \"Dog CEO's Dog API\" i wyświetli go za pomocą biblioteki matplotlib."
   ]
  },
  {
   "cell_type": "markdown",
   "id": "d7820c97-a66f-4187-aea2-c3b316126f24",
   "metadata": {},
   "source": [
    "`pip install scikit-image`\n",
    "\n",
    "`pip install matplotlib`"
   ]
  },
  {
   "cell_type": "code",
   "execution_count": null,
   "id": "a08be31d-418f-4e98-a4e2-503a56a7a611",
   "metadata": {},
   "outputs": [],
   "source": []
  },
  {
   "cell_type": "code",
   "execution_count": null,
   "id": "a325ac38-6442-4881-8952-e5881f3f8fb8",
   "metadata": {},
   "outputs": [],
   "source": []
  },
  {
   "cell_type": "code",
   "execution_count": null,
   "id": "d3d0dc50-9780-465c-b1af-46f3d8d0c35c",
   "metadata": {},
   "outputs": [],
   "source": []
  },
  {
   "cell_type": "code",
   "execution_count": null,
   "id": "a4d43ef3-0cd9-45d6-8b4f-de6989d8b5e0",
   "metadata": {},
   "outputs": [],
   "source": []
  }
 ],
 "metadata": {
  "kernelspec": {
   "display_name": "Python 3 (ipykernel)",
   "language": "python",
   "name": "python3"
  },
  "language_info": {
   "codemirror_mode": {
    "name": "ipython",
    "version": 3
   },
   "file_extension": ".py",
   "mimetype": "text/x-python",
   "name": "python",
   "nbconvert_exporter": "python",
   "pygments_lexer": "ipython3",
   "version": "3.12.8"
  }
 },
 "nbformat": 4,
 "nbformat_minor": 5
}
