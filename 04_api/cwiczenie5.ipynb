{
 "cells": [
  {
   "cell_type": "markdown",
   "id": "4482b432-e50f-40ea-8190-71b0029af2ad",
   "metadata": {},
   "source": [
    "### [Yes Or No API](https://yesno.wtf)\n",
    "\n",
    "Napisz program, który wykorzystuje `Yes Or No API` do pobrania losowego obrazka w formacie gif a następnie wyświetla pobrany plik w Pythonie."
   ]
  },
  {
   "cell_type": "code",
   "execution_count": null,
   "id": "2cde5b9c-625e-4e4e-824d-5800287286fe",
   "metadata": {},
   "outputs": [],
   "source": []
  }
 ],
 "metadata": {
  "kernelspec": {
   "display_name": "Python 3 (ipykernel)",
   "language": "python",
   "name": "python3"
  },
  "language_info": {
   "codemirror_mode": {
    "name": "ipython",
    "version": 3
   },
   "file_extension": ".py",
   "mimetype": "text/x-python",
   "name": "python",
   "nbconvert_exporter": "python",
   "pygments_lexer": "ipython3",
   "version": "3.12.8"
  }
 },
 "nbformat": 4,
 "nbformat_minor": 5
}
