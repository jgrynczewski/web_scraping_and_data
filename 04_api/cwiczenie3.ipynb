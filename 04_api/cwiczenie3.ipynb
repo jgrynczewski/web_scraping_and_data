{
 "cells": [
  {
   "cell_type": "markdown",
   "id": "85eb5977-931b-4157-b470-1cff05702cbf",
   "metadata": {},
   "source": [
    "### [OpenAQ REST API](https://api.openaq.org/)\n",
    "\n",
    "Napisz program w Pythonie, który pobierze dane na temat jakości powietrza we wskazanym mieście z publicznego API \"OpenAQ REST API\" i wyświetli informacje na temat stężenia [pyłów pm2.5](https://pl.wikipedia.org/wiki/PM2,5)  na wykresie.\n",
    "\n",
    "Od czerwca 2024 OpenAQ REST API wymaga uwierzytelnienia. "
   ]
  },
  {
   "cell_type": "markdown",
   "id": "6838cbf8-65f9-44a5-b43b-124b4c99f615",
   "metadata": {},
   "source": [
    "#### Pobranie danych  o powietrzu w danym mieście"
   ]
  },
  {
   "cell_type": "code",
   "execution_count": 1,
   "id": "46125b01-ab8a-48c1-80ef-ee384cc4098f",
   "metadata": {
    "ExecuteTime": {
     "end_time": "2024-12-17T13:52:01.809411Z",
     "start_time": "2024-12-17T13:52:01.062966Z"
    }
   },
   "outputs": [],
   "source": [
    "import requests\n",
    "\n",
    "headers = {\n",
    "    \"X-API-Key\": \"b222e6c14f04dbeb343b9777f2130a1cce09c39daccfd22c4580284ef8482882\"\n",
    "}\n",
    "\n",
    "url = \"https://api.openaq.org/v2/measurements?city=Warszawa&limit=100\"\n",
    "response = requests.get(url, headers=headers)"
   ]
  },
  {
   "cell_type": "code",
   "execution_count": 2,
   "id": "958783c0-4c3a-46dd-8973-f1eadd095702",
   "metadata": {
    "ExecuteTime": {
     "end_time": "2024-12-17T13:52:08.924640Z",
     "start_time": "2024-12-17T13:52:08.909703Z"
    },
    "scrolled": true
   },
   "outputs": [],
   "source": [
    "data = response.json()"
   ]
  },
  {
   "cell_type": "code",
   "execution_count": 3,
   "id": "1777fefb-ed1f-4c40-9590-687b4cbc1d5b",
   "metadata": {
    "scrolled": true
   },
   "outputs": [],
   "source": [
    "results = data['results']"
   ]
  },
  {
   "cell_type": "code",
   "execution_count": 4,
   "id": "e6c2ccb4-73a7-4b78-8ecb-6a15d02a8365",
   "metadata": {
    "scrolled": true
   },
   "outputs": [
    {
     "data": {
      "text/plain": [
       "[12.9,\n",
       " 13.3,\n",
       " 12.6,\n",
       " 9.8,\n",
       " 8.3,\n",
       " 1.3,\n",
       " 1.4,\n",
       " 3.3,\n",
       " 3.3,\n",
       " 5.0,\n",
       " 5.1,\n",
       " 4.2,\n",
       " 3.5,\n",
       " 3.6,\n",
       " 3.2,\n",
       " 3.0,\n",
       " 2.4,\n",
       " 2.2,\n",
       " 2.2,\n",
       " 1.6,\n",
       " 2.2,\n",
       " 3.0,\n",
       " 2.6,\n",
       " 2.4,\n",
       " 2.2,\n",
       " 1.8,\n",
       " 1.3,\n",
       " 1.4,\n",
       " 1.5,\n",
       " 1.9,\n",
       " 2.4,\n",
       " 1.9,\n",
       " 1.9,\n",
       " 2.7,\n",
       " 1.9,\n",
       " 2.6,\n",
       " 2.2,\n",
       " 2.8,\n",
       " 2.1,\n",
       " 2.4,\n",
       " 1.9,\n",
       " 1.5,\n",
       " 1.4,\n",
       " 1.4,\n",
       " 1.6,\n",
       " 2.2,\n",
       " 3.5,\n",
       " 3.4,\n",
       " 2.2,\n",
       " 2.4,\n",
       " 4.2,\n",
       " 4.6,\n",
       " 4.4,\n",
       " 4.7,\n",
       " 3.9,\n",
       " 5.7,\n",
       " 5.7,\n",
       " 8.4,\n",
       " 9.7,\n",
       " 7.4,\n",
       " 6.6,\n",
       " 6.2,\n",
       " 4.6,\n",
       " 3.9,\n",
       " 3.5,\n",
       " 3.0,\n",
       " 3.0,\n",
       " 3.2,\n",
       " 3.2,\n",
       " 4.5,\n",
       " 5.8,\n",
       " 9.4,\n",
       " 11.0,\n",
       " 9.6,\n",
       " 8.9,\n",
       " 9.3,\n",
       " 10.2,\n",
       " 10.2,\n",
       " 12.5,\n",
       " 17.4,\n",
       " 17.4,\n",
       " 16.0,\n",
       " 13.2,\n",
       " 13.0,\n",
       " 14.2,\n",
       " 16.2,\n",
       " 15.8,\n",
       " 18.0,\n",
       " 19.8,\n",
       " 21.3,\n",
       " 19.9,\n",
       " 20.7,\n",
       " 23.5,\n",
       " 24.6,\n",
       " 25.5,\n",
       " 28.0,\n",
       " 28.6,\n",
       " 27.3,\n",
       " 27.7,\n",
       " 27.6]"
      ]
     },
     "execution_count": 4,
     "metadata": {},
     "output_type": "execute_result"
    }
   ],
   "source": [
    "pm25 = [result['value'] for result in results]\n",
    "pm25"
   ]
  },
  {
   "cell_type": "markdown",
   "id": "0519945f-8969-4ecf-b8a4-ddbfdd0b3b4f",
   "metadata": {},
   "source": [
    "#### Analiza i wizualizacja danych"
   ]
  },
  {
   "cell_type": "code",
   "execution_count": 6,
   "id": "5fcec438-ce7e-46fe-8426-32502ba8160e",
   "metadata": {
    "ExecuteTime": {
     "end_time": "2024-12-17T14:22:58.271301Z",
     "start_time": "2024-12-17T14:22:57.580727Z"
    }
   },
   "outputs": [
    {
     "data": {
      "text/plain": [
       "[<matplotlib.lines.Line2D at 0x21e6c946b70>]"
      ]
     },
     "execution_count": 6,
     "metadata": {},
     "output_type": "execute_result"
    },
    {
     "data": {
      "image/png": "[encoded data removed]",
      "text/plain": [
       "<Figure size 640x480 with 1 Axes>"
      ]
     },
     "metadata": {},
     "output_type": "display_data"
    }
   ],
   "source": [
    "import matplotlib.pyplot as plt\n",
    "\n",
    "plt.figure()\n",
    "plt.plot(pm25, marker='o')"
   ]
  },
  {
   "cell_type": "code",
   "execution_count": null,
   "id": "f31eb317-7162-4db0-b174-b701ec93c023",
   "metadata": {},
   "outputs": [],
   "source": []
  },
  {
   "cell_type": "code",
   "execution_count": null,
   "id": "50f686a9-8e4d-4d71-996b-5910af321b4b",
   "metadata": {},
   "outputs": [],
   "source": []
  },
  {
   "cell_type": "code",
   "execution_count": null,
   "id": "f79dfd59-ce9a-413d-9ba5-06c97af37679",
   "metadata": {},
   "outputs": [],
   "source": []
  }
 ],
 "metadata": {
  "kernelspec": {
   "display_name": "Python 3 (ipykernel)",
   "language": "python",
   "name": "python3"
  },
  "language_info": {
   "codemirror_mode": {
    "name": "ipython",
    "version": 3
   },
   "file_extension": ".py",
   "mimetype": "text/x-python",
   "name": "python",
   "nbconvert_exporter": "python",
   "pygments_lexer": "ipython3",
   "version": "3.12.8"
  }
 },
 "nbformat": 4,
 "nbformat_minor": 5
}
