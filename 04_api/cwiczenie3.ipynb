{
 "cells": [
  {
   "cell_type": "markdown",
   "id": "85eb5977-931b-4157-b470-1cff05702cbf",
   "metadata": {},
   "source": [
    "### [OpenAQ REST API](https://api.openaq.org/)\n",
    "\n",
    "Napisz program w Pythonie, który pobierze dane na temat jakości powietrza we wskazanym mieście z publicznego API \"OpenAQ REST API\" i wyświetli informacje na temat stężenia [pyłów pm2.5](https://pl.wikipedia.org/wiki/PM2,5)  na wykresie.\n",
    "\n",
    "Od czerwca 2024 OpenAQ REST API wymaga uwierzytelnienia. "
   ]
  },
  {
   "cell_type": "markdown",
   "id": "6838cbf8-65f9-44a5-b43b-124b4c99f615",
   "metadata": {},
   "source": [
    "#### Pobranie danych  o powietrzu w danym mieście"
   ]
  },
  {
   "cell_type": "code",
   "execution_count": null,
   "id": "46125b01-ab8a-48c1-80ef-ee384cc4098f",
   "metadata": {},
   "outputs": [],
   "source": []
  },
  {
   "cell_type": "code",
   "execution_count": null,
   "id": "958783c0-4c3a-46dd-8973-f1eadd095702",
   "metadata": {
    "scrolled": true
   },
   "outputs": [],
   "source": []
  },
  {
   "cell_type": "markdown",
   "id": "0519945f-8969-4ecf-b8a4-ddbfdd0b3b4f",
   "metadata": {},
   "source": [
    "#### Analiza i wizualizacja danych"
   ]
  },
  {
   "cell_type": "code",
   "execution_count": null,
   "id": "5fcec438-ce7e-46fe-8426-32502ba8160e",
   "metadata": {},
   "outputs": [],
   "source": []
  },
  {
   "cell_type": "code",
   "execution_count": null,
   "id": "f31eb317-7162-4db0-b174-b701ec93c023",
   "metadata": {},
   "outputs": [],
   "source": []
  },
  {
   "cell_type": "code",
   "execution_count": null,
   "id": "50f686a9-8e4d-4d71-996b-5910af321b4b",
   "metadata": {},
   "outputs": [],
   "source": []
  },
  {
   "cell_type": "code",
   "execution_count": null,
   "id": "f79dfd59-ce9a-413d-9ba5-06c97af37679",
   "metadata": {},
   "outputs": [],
   "source": []
  }
 ],
 "metadata": {
  "kernelspec": {
   "display_name": "Python 3 (ipykernel)",
   "language": "python",
   "name": "python3"
  },
  "language_info": {
   "codemirror_mode": {
    "name": "ipython",
    "version": 3
   },
   "file_extension": ".py",
   "mimetype": "text/x-python",
   "name": "python",
   "nbconvert_exporter": "python",
   "pygments_lexer": "ipython3",
   "version": "3.12.8"
  }
 },
 "nbformat": 4,
 "nbformat_minor": 5
}
