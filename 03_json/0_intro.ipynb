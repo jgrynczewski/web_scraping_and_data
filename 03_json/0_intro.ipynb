{
 "cells": [
  {
   "cell_type": "markdown",
   "id": "8b698e98-9715-443d-a660-2b9ff4836e55",
   "metadata": {},
   "source": [
    "### Omówienie najpopularniejszych formatów tekstowych"
   ]
  },
  {
   "attachments": {
    "3f69706a-42fe-4938-9480-8a1e2ef14d80.png": {
     "image/png": "[encoded data removed]"
    }
   },
   "cell_type": "markdown",
   "id": "894ae475-9eef-418c-8641-c99757296c7c",
   "metadata": {},
   "source": [
    "CSV (Comma seprated value) [dsv,ssv,tsv]\n",
    "\n",
    "![image.png](attachment:3f69706a-42fe-4938-9480-8a1e2ef14d80.png)"
   ]
  },
  {
   "cell_type": "markdown",
   "id": "78451c19-f535-4700-9f75-9f8e895ad79b",
   "metadata": {},
   "source": [
    "XML (X-tended Markup Language)"
   ]
  },
  {
   "cell_type": "raw",
   "id": "d3532616-5001-4303-8e0b-c55ae4800465",
   "metadata": {},
   "source": [
    "<persons>\n",
    "    <person>\n",
    "       <name>jan</name>\n",
    "       <surname>kowalski</surname>\n",
    "       <age>25</age>\n",
    "       <sex>m</sex>\n",
    "       <address>\n",
    "           <street>Mickiewicza</street>\n",
    "           ...\n",
    "       </address>\n",
    "    <person>\n",
    "</persons>"
   ]
  },
  {
   "cell_type": "markdown",
   "id": "bc0cf5a5-e985-4a00-940e-7c2f9d929276",
   "metadata": {},
   "source": [
    "JSON (JavaScript Object Notation)"
   ]
  },
  {
   "cell_type": "raw",
   "id": "71d95d96-b6bc-42b7-a6cf-1fe8631538dd",
   "metadata": {},
   "source": [
    "{\n",
    "    \"persons\": [\n",
    "        {\n",
    "           \"name\": \"jan\",\n",
    "           \"surename\": \"kowalski\",\n",
    "           \"age\": 25,\n",
    "           \"sex\": \"m\",\n",
    "           \"address\": {\n",
    "               \"city\": \"Cracow\",\n",
    "               \"street\": {\n",
    "                   \"name\": \"Mickiewicza\"\n",
    "                   \"number: 3\n",
    "               }\n",
    "\t    }\n",
    "        },\n",
    "        {\n",
    "             \"name: \"ewa\",\n",
    "             ...\n",
    "        } \n",
    "    ]\n",
    "}"
   ]
  },
  {
   "metadata": {},
   "cell_type": "code",
   "outputs": [],
   "execution_count": null,
   "source": "",
   "id": "2dd31f22fd0e09d1"
  }
 ],
 "metadata": {
  "kernelspec": {
   "display_name": "Python 3 (ipykernel)",
   "language": "python",
   "name": "python3"
  },
  "language_info": {
   "codemirror_mode": {
    "name": "ipython",
    "version": 3
   },
   "file_extension": ".py",
   "mimetype": "text/x-python",
   "name": "python",
   "nbconvert_exporter": "python",
   "pygments_lexer": "ipython3",
   "version": "3.12.8"
  }
 },
 "nbformat": 4,
 "nbformat_minor": 5
}
