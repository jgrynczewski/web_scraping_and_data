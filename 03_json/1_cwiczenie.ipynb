{
 "cells": [
  {
   "cell_type": "markdown",
   "id": "1866258f-7776-45bc-9eb2-fb808c5b9445",
   "metadata": {},
   "source": [
    "### Wczytywanie danych w formacie json\n",
    "\n",
    "Plik `employees.json` zawiera dane o pracownikach firmy zapisane w formacie `json`. Wczytaj dane z tego pliku, a następnie wyciągnij i wyświetl informacje o pracowniku o najdłuższym stażu pracy. Dodatkowo, wyświetl listę wszystkich pracowników, którzy pracują w dziale \"IT\"."
   ]
  },
  {
   "cell_type": "code",
   "id": "c11bb73e-f0cd-4aa1-af5b-e1cee066bc7a",
   "metadata": {
    "ExecuteTime": {
     "end_time": "2024-12-17T11:51:40.498538Z",
     "start_time": "2024-12-17T11:51:40.485795Z"
    }
   },
   "source": [
    "# Próba wczytania pliku JSON (deserializacja nie jest trywialną operacją)\n",
    "with open(\"employees.json\", encoding='utf-8') as json_file:\n",
    "    content = json_file.read()\n",
    "\n",
    "content"
   ],
   "outputs": [
    {
     "data": {
      "text/plain": [
       "'{\\n  \"employees\": [\\n    {\\n      \"name\": \"Jan Kowalski\",\\n      \"department\": \"HR\",\\n      \"years_of_service\": 5\\n    },\\n    {\\n      \"name\": \"Anna Nowak\",\\n      \"department\": \"IT\",\\n      \"years_of_service\": 3\\n    },\\n    {\\n      \"name\": \"Piotr Wiśniewski\",\\n      \"department\": \"Finance\",\\n      \"years_of_service\": 7\\n    },\\n    {\\n      \"name\": \"Katarzyna Wójcik\",\\n      \"department\": \"IT\",\\n      \"years_of_service\": 6\\n    },\\n    {\\n      \"name\": \"Tomasz Lewandowski\",\\n      \"department\": \"Marketing\",\\n      \"years_of_service\": 2\\n    }\\n  ]\\n}\\n'"
      ]
     },
     "execution_count": 2,
     "metadata": {},
     "output_type": "execute_result"
    }
   ],
   "execution_count": 2
  },
  {
   "cell_type": "code",
   "id": "9f58feb4-9011-48f8-9401-1c368945ef4f",
   "metadata": {
    "ExecuteTime": {
     "end_time": "2024-12-17T11:54:40.765108Z",
     "start_time": "2024-12-17T11:54:40.496352Z"
    }
   },
   "source": [
    "# Próba traktowania tego napisu jakby był słownikiem mija się z celem.\n",
    "content[\"employees\"]"
   ],
   "outputs": [
    {
     "ename": "TypeError",
     "evalue": "string indices must be integers, not 'str'",
     "output_type": "error",
     "traceback": [
      "\u001B[1;31m---------------------------------------------------------------------------\u001B[0m",
      "\u001B[1;31mTypeError\u001B[0m                                 Traceback (most recent call last)",
      "Cell \u001B[1;32mIn[6], line 2\u001B[0m\n\u001B[0;32m      1\u001B[0m \u001B[38;5;66;03m# Próba traktowania tego napisu jakby był słownikiem mija się z celem.\u001B[39;00m\n\u001B[1;32m----> 2\u001B[0m \u001B[43mcontent\u001B[49m\u001B[43m[\u001B[49m\u001B[38;5;124;43m\"\u001B[39;49m\u001B[38;5;124;43memployees\u001B[39;49m\u001B[38;5;124;43m\"\u001B[39;49m\u001B[43m]\u001B[49m\n",
      "\u001B[1;31mTypeError\u001B[0m: string indices must be integers, not 'str'"
     ]
    }
   ],
   "execution_count": 6
  },
  {
   "cell_type": "code",
   "id": "0ab4a8b7-c3b8-418e-900a-9b7e2dbb1210",
   "metadata": {
    "ExecuteTime": {
     "end_time": "2024-12-17T11:51:48.181449Z",
     "start_time": "2024-12-17T11:51:48.176229Z"
    }
   },
   "source": "type(content)",
   "outputs": [
    {
     "data": {
      "text/plain": [
       "str"
      ]
     },
     "execution_count": 3,
     "metadata": {},
     "output_type": "execute_result"
    }
   ],
   "execution_count": 3
  },
  {
   "cell_type": "markdown",
   "id": "7aad179b-a618-40ba-9256-04f509314391",
   "metadata": {},
   "source": [
    "### Deserializacja (dekodowanie)\n",
    "\n",
    "Zmienna `content` jest napisem. My z tego napisu chcemy otrzymać jakąś struktrę danych, która pozowli nam pracować na tych danych, a nie na napisie. Pomoże nam w tym funkcja json.loads (loads od **load s**tring)"
   ]
  },
  {
   "cell_type": "code",
   "id": "dcc61548-3dd3-499c-89c0-4af2aaae22bc",
   "metadata": {
    "ExecuteTime": {
     "end_time": "2024-12-17T11:52:32.713221Z",
     "start_time": "2024-12-17T11:52:32.709644Z"
    }
   },
   "source": [
    "import json\n",
    "\n",
    "print(dir(json))"
   ],
   "outputs": [
    {
     "name": "stdout",
     "output_type": "stream",
     "text": [
      "['JSONDecodeError', 'JSONDecoder', 'JSONEncoder', '__all__', '__author__', '__builtins__', '__cached__', '__doc__', '__file__', '__loader__', '__name__', '__package__', '__path__', '__spec__', '__version__', '_default_decoder', '_default_encoder', 'codecs', 'decoder', 'detect_encoding', 'dump', 'dumps', 'encoder', 'load', 'loads', 'scanner']\n"
     ]
    }
   ],
   "execution_count": 4
  },
  {
   "cell_type": "code",
   "id": "0c2c6cd6-9869-40e8-b9fc-d927b8a1b3d9",
   "metadata": {
    "ExecuteTime": {
     "end_time": "2024-12-17T11:54:17.638884Z",
     "start_time": "2024-12-17T11:54:17.633073Z"
    }
   },
   "source": [
    "# Wczytanie pliku JSON (za pomocą biblioteki JSON) - funkcja loads\n",
    "data = json.loads(content)\n",
    "data"
   ],
   "outputs": [
    {
     "data": {
      "text/plain": [
       "{'employees': [{'name': 'Jan Kowalski',\n",
       "   'department': 'HR',\n",
       "   'years_of_service': 5},\n",
       "  {'name': 'Anna Nowak', 'department': 'IT', 'years_of_service': 3},\n",
       "  {'name': 'Piotr Wiśniewski', 'department': 'Finance', 'years_of_service': 7},\n",
       "  {'name': 'Katarzyna Wójcik', 'department': 'IT', 'years_of_service': 6},\n",
       "  {'name': 'Tomasz Lewandowski',\n",
       "   'department': 'Marketing',\n",
       "   'years_of_service': 2}]}"
      ]
     },
     "execution_count": 5,
     "metadata": {},
     "output_type": "execute_result"
    }
   ],
   "execution_count": 5
  },
  {
   "cell_type": "code",
   "id": "b698824e-d4c4-48ea-bafd-73b7b5120baa",
   "metadata": {
    "ExecuteTime": {
     "end_time": "2024-12-17T11:54:56.632866Z",
     "start_time": "2024-12-17T11:54:56.627274Z"
    }
   },
   "source": "data['employees']\n",
   "outputs": [
    {
     "data": {
      "text/plain": [
       "[{'name': 'Jan Kowalski', 'department': 'HR', 'years_of_service': 5},\n",
       " {'name': 'Anna Nowak', 'department': 'IT', 'years_of_service': 3},\n",
       " {'name': 'Piotr Wiśniewski', 'department': 'Finance', 'years_of_service': 7},\n",
       " {'name': 'Katarzyna Wójcik', 'department': 'IT', 'years_of_service': 6},\n",
       " {'name': 'Tomasz Lewandowski',\n",
       "  'department': 'Marketing',\n",
       "  'years_of_service': 2}]"
      ]
     },
     "execution_count": 7,
     "metadata": {},
     "output_type": "execute_result"
    }
   ],
   "execution_count": 7
  },
  {
   "cell_type": "markdown",
   "id": "0c015d56-e971-4f37-a8e1-9eb7f0a3790e",
   "metadata": {},
   "source": [
    "Możemy też użyć funkcji `load`, która bezpośrednio deserializuje jsona z obiektu otwartego pliku (bez pośredniego etapu wczytywania zawartości pliku do napisu pythonowego)."
   ]
  },
  {
   "cell_type": "code",
   "id": "e94b475d-48aa-47ea-8c9c-7b36d36ddc7d",
   "metadata": {
    "ExecuteTime": {
     "end_time": "2024-12-17T11:55:56.199960Z",
     "start_time": "2024-12-17T11:55:56.190395Z"
    }
   },
   "source": [
    "# Wczytanie pliku JSON (za pomocą biblioteki JSON) - funkcja load\n",
    "with open(\"employees.json\", encoding='utf-8') as json_file:\n",
    "    data = json.load(json_file)\n",
    "\n",
    "data"
   ],
   "outputs": [
    {
     "data": {
      "text/plain": [
       "{'employees': [{'name': 'Jan Kowalski',\n",
       "   'department': 'HR',\n",
       "   'years_of_service': 5},\n",
       "  {'name': 'Anna Nowak', 'department': 'IT', 'years_of_service': 3},\n",
       "  {'name': 'Piotr Wiśniewski', 'department': 'Finance', 'years_of_service': 7},\n",
       "  {'name': 'Katarzyna Wójcik', 'department': 'IT', 'years_of_service': 6},\n",
       "  {'name': 'Tomasz Lewandowski',\n",
       "   'department': 'Marketing',\n",
       "   'years_of_service': 2}]}"
      ]
     },
     "execution_count": 8,
     "metadata": {},
     "output_type": "execute_result"
    }
   ],
   "execution_count": 8
  },
  {
   "cell_type": "code",
   "id": "7247e61c-060c-422a-90a2-c719f89804c9",
   "metadata": {
    "ExecuteTime": {
     "end_time": "2024-12-17T12:00:52.508465Z",
     "start_time": "2024-12-17T12:00:52.502651Z"
    }
   },
   "source": [
    "# Znalezienie pracownika o najdłuższym stażu pracy\n",
    "\n",
    "# def func(item):\n",
    "#     return item[\"years_of_service\"]\n",
    "# res = max(data[\"employees\"], key=func)\n",
    "\n",
    "res = max(data[\"employees\"], key= lambda item: item[\"years_of_service\"])\n",
    "print(res)"
   ],
   "outputs": [
    {
     "name": "stdout",
     "output_type": "stream",
     "text": [
      "{'name': 'Piotr Wiśniewski', 'department': 'Finance', 'years_of_service': 7}\n"
     ]
    }
   ],
   "execution_count": 11
  },
  {
   "cell_type": "code",
   "execution_count": null,
   "id": "593b4c5a-9e31-4420-b89f-8c087c491eeb",
   "metadata": {},
   "outputs": [],
   "source": [
    "# Wyświetlenie pracowników z działu IT\n"
   ]
  }
 ],
 "metadata": {
  "kernelspec": {
   "display_name": "Python 3 (ipykernel)",
   "language": "python",
   "name": "python3"
  },
  "language_info": {
   "codemirror_mode": {
    "name": "ipython",
    "version": 3
   },
   "file_extension": ".py",
   "mimetype": "text/x-python",
   "name": "python",
   "nbconvert_exporter": "python",
   "pygments_lexer": "ipython3",
   "version": "3.12.8"
  }
 },
 "nbformat": 4,
 "nbformat_minor": 5
}
