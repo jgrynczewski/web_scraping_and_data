{
 "cells": [
  {
   "cell_type": "markdown",
   "id": "1866258f-7776-45bc-9eb2-fb808c5b9445",
   "metadata": {},
   "source": [
    "### Wczytywanie danych w formacie json\n",
    "\n",
    "Plik `employees.json` zawiera dane o pracownikach firmy zapisane w formacie `json`. Wczytaj dane z tego pliku, a następnie wyciągnij i wyświetl informacje o pracowniku o najdłuższym stażu pracy. Dodatkowo, wyświetl listę wszystkich pracowników, którzy pracują w dziale \"IT\"."
   ]
  },
  {
   "cell_type": "code",
   "execution_count": null,
   "id": "c11bb73e-f0cd-4aa1-af5b-e1cee066bc7a",
   "metadata": {},
   "outputs": [],
   "source": [
    "# Próba wczytania pliku JSON (deserializacja nie jest trywialną operacją)\n"
   ]
  },
  {
   "cell_type": "code",
   "execution_count": null,
   "id": "9f58feb4-9011-48f8-9401-1c368945ef4f",
   "metadata": {},
   "outputs": [],
   "source": [
    "# Próba traktowania tego napisu jakby był słownikiem mija się z celem.\n"
   ]
  },
  {
   "cell_type": "code",
   "execution_count": null,
   "id": "0ab4a8b7-c3b8-418e-900a-9b7e2dbb1210",
   "metadata": {},
   "outputs": [],
   "source": []
  },
  {
   "cell_type": "markdown",
   "id": "7aad179b-a618-40ba-9256-04f509314391",
   "metadata": {},
   "source": [
    "### Deserializacja (dekodowanie)\n",
    "\n",
    "Zmienna `content` jest napisem. My z tego napisu chcemy otrzymać jakąś struktrę danych, która pozowli nam pracować na tych danych, a nie na napisie. Pomoże nam w tym funkcja json.loads (loads od **load s**tring)"
   ]
  },
  {
   "cell_type": "code",
   "execution_count": null,
   "id": "dcc61548-3dd3-499c-89c0-4af2aaae22bc",
   "metadata": {},
   "outputs": [],
   "source": []
  },
  {
   "cell_type": "code",
   "execution_count": null,
   "id": "0c2c6cd6-9869-40e8-b9fc-d927b8a1b3d9",
   "metadata": {},
   "outputs": [],
   "source": [
    "# Wczytanie pliku JSON (za pomocą biblioteki JSON) - funkcja loads\n"
   ]
  },
  {
   "cell_type": "code",
   "execution_count": null,
   "id": "b698824e-d4c4-48ea-bafd-73b7b5120baa",
   "metadata": {},
   "outputs": [],
   "source": []
  },
  {
   "cell_type": "markdown",
   "id": "0c015d56-e971-4f37-a8e1-9eb7f0a3790e",
   "metadata": {},
   "source": [
    "Możemy też użyć funkcji `load`, która bezpośrednio deserializuje jsona z obiektu otwartego pliku (bez pośredniego etapu wczytywania zawartości pliku do napisu pythonowego)."
   ]
  },
  {
   "cell_type": "code",
   "execution_count": null,
   "id": "e94b475d-48aa-47ea-8c9c-7b36d36ddc7d",
   "metadata": {},
   "outputs": [],
   "source": [
    "# Wczytanie pliku JSON (za pomocą biblioteki JSON) - funkcja load\n"
   ]
  },
  {
   "cell_type": "code",
   "execution_count": null,
   "id": "7247e61c-060c-422a-90a2-c719f89804c9",
   "metadata": {},
   "outputs": [],
   "source": [
    "# Znalezienie pracownika o najdłuższym stażu pracy\n"
   ]
  },
  {
   "cell_type": "code",
   "execution_count": null,
   "id": "593b4c5a-9e31-4420-b89f-8c087c491eeb",
   "metadata": {},
   "outputs": [],
   "source": [
    "# Wyświetlenie pracowników z działu IT\n"
   ]
  }
 ],
 "metadata": {
  "kernelspec": {
   "display_name": "Python 3 (ipykernel)",
   "language": "python",
   "name": "python3"
  },
  "language_info": {
   "codemirror_mode": {
    "name": "ipython",
    "version": 3
   },
   "file_extension": ".py",
   "mimetype": "text/x-python",
   "name": "python",
   "nbconvert_exporter": "python",
   "pygments_lexer": "ipython3",
   "version": "3.12.8"
  }
 },
 "nbformat": 4,
 "nbformat_minor": 5
}
