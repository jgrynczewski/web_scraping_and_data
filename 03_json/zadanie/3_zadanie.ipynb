{
 "cells": [
  {
   "cell_type": "markdown",
   "id": "a7ac3674-b77a-4889-a8a6-64abdb4a9c29",
   "metadata": {},
   "source": [
    "### Aktualizacja Danych Sprzedaży z Użyciem Inputu\n",
    "\n",
    "Plik `data.json` zawiera zapisane w formacie `json` dane o sprzedaży produktów w sklepie internetowym. Twoim zadaniem jest wczytanie danych z tego pliku, umożliwienie użytkownikowi dodania nowych danych o sprzedaży za pomocą funkcji `input`, a następnie zapisanie zaktualizowanych danych do pliku JSON. Plik, w którym zapiszesz dane powinien mieć w nazwie datę jego wygenerowania (np. data_.json)\n",
    "\n",
    "Hint: Załóż, że użytkownik wprowadza wyłącznie prawidłowe dane."
   ]
  },
  {
   "cell_type": "markdown",
   "id": "9ee13372-5d7f-4c9f-be78-0e789cbd0b12",
   "metadata": {},
   "source": [
    "#### 1. Wczytaj zawartość pliku JSON."
   ]
  },
  {
   "cell_type": "code",
   "execution_count": null,
   "id": "7d448b95-8171-474a-bdc9-93ead7fbde4c",
   "metadata": {},
   "outputs": [],
   "source": [
    "# Wczytywanie pliku JSON\n"
   ]
  },
  {
   "cell_type": "markdown",
   "id": "a30dac4b-39f7-4b00-92ba-2afd309ce8cd",
   "metadata": {},
   "source": [
    "#### 2. Pobierz od użytkownika dane o nowym produkcie: name, category, price, units_sold."
   ]
  },
  {
   "cell_type": "code",
   "execution_count": null,
   "id": "ce153ed1-7377-4f8b-9f6b-a9dd871db991",
   "metadata": {},
   "outputs": [],
   "source": [
    "# Pobieranie danych od użytkownika\n"
   ]
  },
  {
   "cell_type": "markdown",
   "id": "25ef4cbe-4ab4-4aba-b263-c5d5ee5e41eb",
   "metadata": {},
   "source": [
    "#### 3. Dodaj nowy produkt do listy produktów w JSON."
   ]
  },
  {
   "cell_type": "code",
   "execution_count": null,
   "id": "cc65fa65-f368-4705-81d9-668266eb67ba",
   "metadata": {},
   "outputs": [],
   "source": [
    "# Dodawanie nowego produktu do listy\n"
   ]
  },
  {
   "cell_type": "markdown",
   "id": "532be127-e888-4953-83fb-1dec44c42321",
   "metadata": {},
   "source": [
    "#### 4. Zapisz zaktualizowane dane do pliku JSON."
   ]
  },
  {
   "cell_type": "code",
   "execution_count": null,
   "id": "02ca835d-5bd1-4a1a-a240-a526f13bf2bb",
   "metadata": {},
   "outputs": [],
   "source": [
    "# Zapisanie zaktualizowanych danych do pliku JSON\n"
   ]
  },
  {
   "cell_type": "markdown",
   "id": "b19ffc24-f142-4dcc-bef2-7c7312ab5494",
   "metadata": {},
   "source": [
    "#### 5. Wyświetl wszystkie produkty po aktualizacji."
   ]
  },
  {
   "cell_type": "code",
   "execution_count": null,
   "id": "82f29210-a8e7-4ab1-b5de-cc38d9ee83ac",
   "metadata": {},
   "outputs": [],
   "source": [
    "# Wyświetlanie wszystkich produktów po aktualizacji\n"
   ]
  }
 ],
 "metadata": {
  "kernelspec": {
   "display_name": "Python 3 (ipykernel)",
   "language": "python",
   "name": "python3"
  },
  "language_info": {
   "codemirror_mode": {
    "name": "ipython",
    "version": 3
   },
   "file_extension": ".py",
   "mimetype": "text/x-python",
   "name": "python",
   "nbconvert_exporter": "python",
   "pygments_lexer": "ipython3",
   "version": "3.12.8"
  }
 },
 "nbformat": 4,
 "nbformat_minor": 5
}
