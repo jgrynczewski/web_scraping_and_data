{
 "cells": [
  {
   "cell_type": "markdown",
   "id": "c3427d92-cd9c-461e-bc48-1d8acd10516a",
   "metadata": {},
   "source": [
    "### Analiza danych z pliku JSON z wykorzystaniem wyrażeń regularnych\n",
    "\n",
    "Plik `users_data.json` zawiera dane o użytkownikach strony internetowej zapisane w formacie `json`. Twoim zadaniem jest wczytanie danych z tego pliku, a następnie przeprowadzenie analizy. Zadanie jest podzielone na trzy podzadania:\n",
    "\n",
    "- Zidentyfikować użytkowników z adresami email z określonej domeny (np. example.com).\n",
    "- Sprawdzić, czy użytkownicy mają prawidłowy format numeru telefonu (w formacie XXX-XXX-XXXX).\n",
    "- Wyodrębnić użytkowników, których hasła mają co najmniej 8 znaków i zawierają co najmniej jedną literę oraz jedną cyfrę (przykład z gwiazdką)\n",
    "- \n",
    "Na końcu zapisz wyniki analizy do nowego pliku JSON, zawierającego tylko użytkowników spełniających te kryteria."
   ]
  },
  {
   "cell_type": "markdown",
   "id": "1a4ff37c-5cff-4894-b996-d432a2e89afb",
   "metadata": {},
   "source": [
    "1. Wczytaj dane z pliku JSON."
   ]
  },
  {
   "cell_type": "code",
   "execution_count": null,
   "id": "75b0b781-8e45-476c-ac0b-8fbcd3c4432c",
   "metadata": {},
   "outputs": [],
   "source": [
    "# Wczytywanie pliku JSON\n"
   ]
  },
  {
   "cell_type": "markdown",
   "id": "329e0587-1911-4553-b1d6-de9fe61c26e4",
   "metadata": {},
   "source": [
    "2. Zidentyfikuj użytkowników z adresami email z domeny `example.com`"
   ]
  },
  {
   "cell_type": "code",
   "execution_count": null,
   "id": "d2848555-f893-4fdd-bbf0-4ea89db40d42",
   "metadata": {},
   "outputs": [],
   "source": [
    "# Wyrażenie regularne dla adresu email\n"
   ]
  },
  {
   "cell_type": "markdown",
   "id": "684272e0-19e8-4968-a4cb-714dea1ce825",
   "metadata": {},
   "source": [
    "3. Sprawdź, czy użytkownicy mają prawidłowy format numeru telefonu (w formacie XXX-XXX-XXXX)."
   ]
  },
  {
   "cell_type": "code",
   "execution_count": null,
   "id": "a38f05c1-e39b-49ce-9582-f594c2dd7dc5",
   "metadata": {},
   "outputs": [],
   "source": [
    "# Wyrażenie regularne dla numeru telefonu\n"
   ]
  },
  {
   "cell_type": "markdown",
   "id": "f372f144-c7b5-4a19-b122-ecdec9e5e458",
   "metadata": {},
   "source": [
    "4. Wskaż użytkowników, których hasła spełniają określone kryterium bezpieczeństwa (co najmniej 8 znaków, co najmniej jedna litera oraz jedna cyfra)."
   ]
  },
  {
   "cell_type": "code",
   "execution_count": null,
   "id": "da2132ee-9fb7-4282-bdb5-35930ca215db",
   "metadata": {},
   "outputs": [],
   "source": [
    "# Wyrażenie regularne dla hasła (użycie positive lookahead) - przykład zaawansowany\n",
    "\n",
    "# Filtrowanie użytkowników według kryteriów bezpieczeństwa hasła\n",
    "\n",
    "# Wyświetlanie wyników filtracji\n"
   ]
  },
  {
   "cell_type": "markdown",
   "id": "ed7dedbd-3d0d-4669-9381-e09f541864ea",
   "metadata": {},
   "source": [
    "5. Zapisz wyniki analizy do nowego pliku JSON, zawierającego tylko użytkowników spełniających te kryteria."
   ]
  },
  {
   "cell_type": "code",
   "execution_count": null,
   "id": "a5b76939-2709-437f-b944-8bf6dfa33899",
   "metadata": {},
   "outputs": [],
   "source": [
    "# Filtrowanie użytkowników według wszystkich kryteriów\n",
    "\n",
    "# Zapisanie wyników analizy do pliku JSON\n",
    "\n",
    "# Wyświetlanie wyników analizy\n"
   ]
  }
 ],
 "metadata": {
  "kernelspec": {
   "display_name": "Python 3 (ipykernel)",
   "language": "python",
   "name": "python3"
  },
  "language_info": {
   "codemirror_mode": {
    "name": "ipython",
    "version": 3
   },
   "file_extension": ".py",
   "mimetype": "text/x-python",
   "name": "python",
   "nbconvert_exporter": "python",
   "pygments_lexer": "ipython3",
   "version": "3.12.8"
  }
 },
 "nbformat": 4,
 "nbformat_minor": 5
}
