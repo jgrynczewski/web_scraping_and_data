{
 "cells": [
  {
   "cell_type": "markdown",
   "id": "08800f03-2b0e-4f2a-b63f-d91c42bbce68",
   "metadata": {},
   "source": [
    "#### Analiza i Modyfikacja Danych z Pliku JSON\n",
    "\n",
    "Plik `sales_data.json` zawiera zapisane w formacie `json` dane o sprzedaży produktów w sklepie internetowym. Twoim zadaniem jest wczytanie danych z tego pliku, przeprowadzenie analizy, a następnie zapisanie wyników do nowego pliku JSON. Zadanie obejmuje:\n",
    "\n",
    "1. Wczytanie danych z pliku JSON.\n",
    "2. Znalezienie produktu, który osiągnął najwyższe przychody (ilość sprzedanych sztuk pomnożona przez cenę).\n",
    "3. Obliczenie łącznych przychodów ze sprzedaży wszystkich produktów.\n",
    "4. Wyświetlenie średniej ceny produktów.\n",
    "5. Znalezienie produktów, które wygenerowały przychód powyżej określonej wartości (np. $500).\n",
    "6. Zapisanie wyników analizy (produkt o najwyższych przychodach, łączne przychody, ...) do pliku `analysis_results.json`."
   ]
  },
  {
   "cell_type": "markdown",
   "id": "b35c8864-d62f-4e30-b6ca-e6924aa0e1ce",
   "metadata": {},
   "source": [
    "1. Wczytanie danych z pliku."
   ]
  },
  {
   "cell_type": "code",
   "execution_count": null,
   "id": "885b6291-f3c9-4560-8913-2b61982b1c35",
   "metadata": {},
   "outputs": [],
   "source": [
    "# Wczytywanie pliku JSON\n"
   ]
  },
  {
   "cell_type": "markdown",
   "id": "af1cb1f2-36a1-445d-8064-d45bc1143b29",
   "metadata": {},
   "source": [
    "2. Znalezienie produktu o najwyższych przychodach"
   ]
  },
  {
   "cell_type": "code",
   "execution_count": null,
   "id": "97fc8796-4045-4c8e-b3a3-bbc0c2fd4097",
   "metadata": {},
   "outputs": [],
   "source": [
    "# Znalezienie produktu o najwyższych przychodach\n"
   ]
  },
  {
   "cell_type": "markdown",
   "id": "58cd2dac-c96a-4fcf-983d-f10cd52625d2",
   "metadata": {},
   "source": [
    "3. Obliczenie łącznych przychodów ze sprzedaży wszystkich produktów"
   ]
  },
  {
   "cell_type": "code",
   "execution_count": null,
   "id": "34fc3f88-06f2-46c6-92f7-61e777350354",
   "metadata": {},
   "outputs": [],
   "source": [
    "# Obliczenie łącznych przychodów ze sprzedaży wszystkich produktów\n"
   ]
  },
  {
   "cell_type": "markdown",
   "id": "e82b37fc-dcfc-46bc-88e2-a68e7e7e4e33",
   "metadata": {},
   "source": [
    "4. Obliczenie średniej ceny produktów"
   ]
  },
  {
   "cell_type": "code",
   "execution_count": null,
   "id": "12fd93e4-39b9-4558-9233-42db5b11bbf2",
   "metadata": {},
   "outputs": [],
   "source": [
    "# Obliczenie średniej ceny produktów\n"
   ]
  },
  {
   "cell_type": "markdown",
   "id": "2eb0b955-5df6-4eab-bef5-c0b2708b2e7f",
   "metadata": {},
   "source": [
    "5. Znalezienie produktów, które wygenerowały przychód powyżej określonej wartości (np. $10.000)"
   ]
  },
  {
   "cell_type": "code",
   "execution_count": null,
   "id": "995ca280-b9a0-4fe3-b96f-c24b5e97f94c",
   "metadata": {},
   "outputs": [],
   "source": [
    "# Znalezienie produktów, które wygenerowały przychód powyżej $10.000\n"
   ]
  },
  {
   "cell_type": "markdown",
   "id": "88ffe254-0e73-4cd7-9a4a-5dabd6347777",
   "metadata": {},
   "source": [
    "6. Zapisanie wyników analizy do pliku \"analysis_results.json\""
   ]
  },
  {
   "cell_type": "code",
   "execution_count": null,
   "id": "7588dd8d-b86f-440c-912c-f2070caa28f5",
   "metadata": {},
   "outputs": [],
   "source": [
    "# Zapisanie wyników analizy do pliku \"analysis_results.json\"\n"
   ]
  }
 ],
 "metadata": {
  "kernelspec": {
   "display_name": "Python 3 (ipykernel)",
   "language": "python",
   "name": "python3"
  },
  "language_info": {
   "codemirror_mode": {
    "name": "ipython",
    "version": 3
   },
   "file_extension": ".py",
   "mimetype": "text/x-python",
   "name": "python",
   "nbconvert_exporter": "python",
   "pygments_lexer": "ipython3",
   "version": "3.12.8"
  }
 },
 "nbformat": 4,
 "nbformat_minor": 5
}
