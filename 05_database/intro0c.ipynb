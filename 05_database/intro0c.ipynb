{
 "cells": [
  {
   "cell_type": "markdown",
   "id": "5d61dde9-ac01-4edb-badc-8c14a65f5849",
   "metadata": {
    "editable": true,
    "slideshow": {
     "slide_type": ""
    },
    "tags": []
   },
   "source": [
    "### Powiązania"
   ]
  },
  {
   "cell_type": "markdown",
   "id": "7435b087-0039-4b16-b632-5d77a55402c6",
   "metadata": {},
   "source": [
    "### Relacja 1-1 (jeden do jeden)\n",
    "\n",
    "Tworzymy tabelę `country`\n",
    "\n",
    "<code>CREATE TABLE country (\n",
    "    id INTEGER PRIMARY KEY AUTOINCREMENT,\n",
    "    name VARCHAR(100) NOT NULL,\n",
    ");</code>\n",
    "\n",
    "Tworzymy tabelę `capital`, która ma relację 1:1 z `country`\n",
    "\n",
    "<code>CREATE TABLE capital (\n",
    "    id INTEGER PRIMARY KEY AUTOINCREMENT,\n",
    "    country_id INTEGER UNIQUE,  -- Powiązanie z tabelą `country`\n",
    "    name VARCHAR(100) NOT NULL,\n",
    "    FOREIGN KEY (country_id) REFERENCES country(id)\n",
    ");</code>"
   ]
  },
  {
   "cell_type": "markdown",
   "id": "d1a43fff-b6a5-4df3-a82e-ccc4c14c4877",
   "metadata": {},
   "source": [
    "### Relacja 1-N (jeden do wielu)\n",
    "\n",
    "Tworzymy tabelę `country`\n",
    "\n",
    "<code>CREATE TABLE country (\n",
    "    id INTEGER PRIMARY KEY AUTOINCREMENT,\n",
    "    name VARCHAR(100) NOT NULL,\n",
    ");</code>\n",
    "\n",
    "Tworzymy tabelę `city`, która ma relację 1:N z tabelą `country`\n",
    "\n",
    "<code>CREATE TABLE city (\n",
    "    id INTEGER PRIMARY KEY AUTOINCREMENT,\n",
    "    name VARCHAR(100) NOT NULL,\n",
    "    country_id INTEGER,  -- Powiązanie z tabelą `country`\n",
    "    FOREIGN KEY (country_id) REFERENCES country(id)\n",
    ");</code>"
   ]
  },
  {
   "cell_type": "markdown",
   "id": "ca0d1f17-589c-49c7-b9ca-1b5712c4488e",
   "metadata": {},
   "source": [
    "### Relacja N-N (wiele do wielu)\n",
    "\n",
    "Tworzymy tabelę `actor`\n",
    "\n",
    "<code>CREATE TABLE actor (\n",
    "    id INTEGER PRIMARY KEY AUTOINCREMENT,\n",
    "    name VARCHAR(100) NOT NULL\n",
    ");</code>\n",
    "\n",
    "Tworzymy tabelę `movie`, powiązaną z `actor` przez tabelę łączącą\n",
    "\n",
    "<code>CREATE TABLE movie (\n",
    "    id INTEGER PRIMARY KEY AUTOINCREMENT,\n",
    "    name VARCHAR(100) NOT NULL,\n",
    ");</code>\n",
    "\n",
    "Tworzymy tabelę łączącą `actor_movie`, która łączy pracowników z projektami\n",
    "\n",
    "<code>CREATE TABLE actor_movie (\n",
    "    actor_id INTEGER,  -- Klucz obcy wskazujący na aktora\n",
    "    movie_id INTEGER,   -- Klucz obcy wskazujący na film\n",
    "    PRIMARY KEY (actor_id, movie_id),\n",
    "    FOREIGN KEY (actor_id) REFERENCES actor(id),\n",
    "    FOREIGN KEY (movie_id) REFERENCES movie(id)\n",
    ");</code>"
   ]
  }
 ],
 "metadata": {
  "kernelspec": {
   "display_name": "Python 3 (ipykernel)",
   "language": "python",
   "name": "python3"
  },
  "language_info": {
   "codemirror_mode": {
    "name": "ipython",
    "version": 3
   },
   "file_extension": ".py",
   "mimetype": "text/x-python",
   "name": "python",
   "nbconvert_exporter": "python",
   "pygments_lexer": "ipython3",
   "version": "3.12.8"
  }
 },
 "nbformat": 4,
 "nbformat_minor": 5
}
