{
 "cells": [
  {
   "cell_type": "markdown",
   "id": "6d102bdb-5318-4672-8eb7-5c7d61506d4e",
   "metadata": {},
   "source": [
    "## SQL"
   ]
  },
  {
   "cell_type": "code",
   "execution_count": 1,
   "id": "b569b35e-ce7b-4946-9dce-83ff4a3d12bc",
   "metadata": {},
   "outputs": [
    {
     "data": {
      "text/plain": [
       "4"
      ]
     },
     "execution_count": 1,
     "metadata": {},
     "output_type": "execute_result"
    }
   ],
   "source": [
    "# styl imperatywny  - jak ?\n",
    "arr = [1, 2, 3, 4]\n",
    "\n",
    "max_value = arr[0]\n",
    "for item in arr:\n",
    "    if item > max_value:\n",
    "        max_value = item\n",
    "\n",
    "max_value"
   ]
  },
  {
   "cell_type": "code",
   "execution_count": 2,
   "id": "fe4ffcb3-7083-4048-af52-a7245e4601d8",
   "metadata": {
    "editable": true,
    "slideshow": {
     "slide_type": ""
    },
    "tags": []
   },
   "outputs": [
    {
     "data": {
      "text/plain": [
       "4"
      ]
     },
     "execution_count": 2,
     "metadata": {},
     "output_type": "execute_result"
    }
   ],
   "source": [
    "# styl deklaratywny - co ?\n",
    "max(arr)"
   ]
  },
  {
   "cell_type": "markdown",
   "id": "a23bfb9c-943a-4d73-abb2-eb3eebb789e5",
   "metadata": {
    "editable": true,
    "slideshow": {
     "slide_type": ""
    },
    "tags": []
   },
   "source": [
    "### Operacje DDL"
   ]
  },
  {
   "cell_type": "markdown",
   "id": "cce18b7a-883c-4bc5-85e3-2c1846ec30af",
   "metadata": {},
   "source": [
    "#### C w DDL - CREATE TABLE"
   ]
  },
  {
   "attachments": {
    "d07c99eb-224d-4235-89e2-36e8019e106b.png": {
     "image/png": "[encoded data removed]"
    }
   },
   "cell_type": "markdown",
   "id": "2e3a01cc-3ad3-4011-a13c-deb638f5d614",
   "metadata": {},
   "source": [
    "Tworzymy tabelę `employee`\n",
    "\n",
    "![image.png](attachment:d07c99eb-224d-4235-89e2-36e8019e106b.png)\n",
    "\n",
    "<code>CREATE TABLE employee (\n",
    "    id INTEGER PRIMARY KEY AUTOINCREMENT,\n",
    "    first_name VARCHAR(100) NOT NULL,\n",
    "    last_name VARCHAR(100) NOT NULL,\n",
    "    age INTEGER NOT NULL,\n",
    "    department VARCHAR(100) NOT NULL,\n",
    "    position VARCHAR(100) NOT NULL,\n",
    "    salary REAL NOT NULL,\n",
    "    hire_date TEXT NOT NULL\n",
    ");</code>"
   ]
  },
  {
   "cell_type": "markdown",
   "id": "96f3ab49-cd74-49a1-9fcf-a80ed0de0804",
   "metadata": {},
   "source": [
    "#### U w DDL - ALTER TABLE"
   ]
  },
  {
   "cell_type": "markdown",
   "id": "3f0952c8-9b02-45f3-a313-d471485f19fd",
   "metadata": {},
   "source": [
    "Dodajemy nową kolumnę do tabeli `employee`\n",
    "\n",
    "<code>ALTER TABLE employee ADD COLUMN email VARCHAR(100);</code>\n",
    "\n",
    "W sqlite dostępne są jeszcze:\n",
    "\n",
    "`RENAME TO <new_name>` \\\n",
    "`RENAME COLUMN <name> TO <new_name>` \\\n",
    "`DROP COLUMN <name>`\n",
    "\n",
    "nie ma wsparcia dla `MODIFY COLUMN`"
   ]
  },
  {
   "cell_type": "markdown",
   "id": "2feee656-eea1-4a68-b0fb-c10ded15df0b",
   "metadata": {},
   "source": [
    "#### D w DDL - DROP TABLE\n",
    "\n",
    "<code>DROP TABLE employee</code>"
   ]
  },
  {
   "cell_type": "markdown",
   "id": "e5664c35-9710-4178-864f-b006bb42c86b",
   "metadata": {},
   "source": [
    "### Operacje DQL"
   ]
  },
  {
   "cell_type": "markdown",
   "id": "e0eb5511-3b33-48d3-a01d-7ee235fe4f7c",
   "metadata": {},
   "source": [
    "#### C w DQL - INSERT INTO\n",
    "\n",
    "Dodajemy nowego pracownika do tabeli `employee`\n",
    "\n",
    "\n",
    "<code>INSERT INTO employee (first_name, last_name, age, department, position, salary, hire_date)\n",
    "VALUES ('Alice', 'Smith', 30, 'Engineering', 'Software Engineer', 70000, '2020-01-15');</code>"
   ]
  },
  {
   "cell_type": "markdown",
   "id": "76d7f725-024c-4fc7-9910-61fde4e11e04",
   "metadata": {},
   "source": [
    "Dodajemy wielu pracowników do tabeli `employee`\n",
    "\n",
    "<code>INSERT INTO employee (first_name, last_name, age, department, position, salary, hire_date) VALUES\n",
    "('Alice', 'Smith', 30, 'Engineering', 'Software Engineer', 70000, '2020-01-15'),\n",
    "('Bob', 'Johnson', 45, 'Marketing', 'Marketing Manager', 80000, '2018-07-10'),\n",
    "('Charlie', 'Williams', 25, 'Sales', 'Sales Representative', 45000, '2021-05-20'),\n",
    "('David', 'Brown', 28, 'HR', 'HR Specialist', 52000, '2019-03-22'),\n",
    "('Emma', 'Jones', 35, 'Finance', 'Financial Analyst', 75000, '2017-10-13'),\n",
    "('Frank', 'Garcia', 40, 'Engineering', 'DevOps Engineer', 85000, '2016-08-01'),\n",
    "('Grace', 'Martinez', 32, 'Marketing', 'Content Strategist', 65000, '2019-11-05'),\n",
    "('Hannah', 'Rodriguez', 29, 'Sales', 'Account Manager', 50000, '2020-12-02')</code>"
   ]
  },
  {
   "cell_type": "markdown",
   "id": "02530b14-c807-4ffa-ad62-865ad08c602f",
   "metadata": {},
   "source": [
    "### U w DQL - Update\n",
    "\n",
    "Zaktualizowanie pensji pracownika o id 1\n",
    "\n",
    "<code>UPDATE employee\n",
    "SET salary = 80000\n",
    "WHERE id = 2;</code>"
   ]
  },
  {
   "cell_type": "markdown",
   "id": "b5516708-7b8f-490a-b228-12196bdc25d2",
   "metadata": {},
   "source": [
    "#### D w DQL - DELETE\n",
    "\n",
    "Usunięcie pracownika o id 1\n",
    "\n",
    "<code>DELETE FROM employee WHERE id = 2;</code>"
   ]
  },
  {
   "cell_type": "code",
   "execution_count": null,
   "id": "d9568276-8d55-4e58-8c61-f29651ec94b8",
   "metadata": {
    "editable": true,
    "slideshow": {
     "slide_type": ""
    },
    "tags": []
   },
   "outputs": [],
   "source": []
  }
 ],
 "metadata": {
  "kernelspec": {
   "display_name": "Python 3 (ipykernel)",
   "language": "python",
   "name": "python3"
  },
  "language_info": {
   "codemirror_mode": {
    "name": "ipython",
    "version": 3
   },
   "file_extension": ".py",
   "mimetype": "text/x-python",
   "name": "python",
   "nbconvert_exporter": "python",
   "pygments_lexer": "ipython3",
   "version": "3.12.8"
  }
 },
 "nbformat": 4,
 "nbformat_minor": 5
}
