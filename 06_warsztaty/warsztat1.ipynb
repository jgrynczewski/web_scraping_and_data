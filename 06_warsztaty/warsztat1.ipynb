{
 "cells": [
  {
   "cell_type": "markdown",
   "id": "6881804f-a9bc-43a4-85a0-fb80233a5e8c",
   "metadata": {},
   "source": [
    "## API GUS\n",
    "\n",
    "### Część I\n",
    "\n",
    "Popatrz na wskaźniki dostępne w API GUS. Wybierz kilka interesujących i postaw hipotezę dotyczącą tych wskaźników. Przedstaw zależności na wykresie, policz współczynnik korelacji (np. https://numpy.org/doc/2.1/reference/generated/numpy.correlate.html), jeżeli to mogłoby pomóc w odrzuceniu hipotezy."
   ]
  },
  {
   "cell_type": "markdown",
   "id": "e28a2481-27c0-4601-b9e6-5b2c86cdd328",
   "metadata": {},
   "source": [
    "Kilka **przykładowych** hipotez:\n",
    "\n",
    "#### 1. Wykres porównujący atrakcyjność inwestycyjną województw i liczbę absolwentów na poziomie magisterskim\n",
    "\n",
    "**Cel**: Zidentyfikowanie, czy atrakcyjność inwestycyjna województw ma wpływ na liczbę absolwentów studiów magisterskich.\n",
    "\n",
    "**Dane**: „Atrakcyjność inwestycyjna województwa (pozycja w rankingu)” oraz „Absolwenci studiów na poziomie magisterskim”.\n",
    "\n",
    "**Wykres**: Scatter plot (wykres punktowy), gdzie oś X będzie reprezentować pozycję województwa w rankingu atrakcyjności inwestycyjnej, a oś Y liczbę absolwentów.\n",
    "\n",
    "**Potencjalne pytanie analityczne**: Czy województwa o wyższej atrakcyjności inwestycyjnej mają więcej absolwentów magisterskich? Czy istnieje korelacja między tymi dwoma zmiennymi?\n",
    "\n",
    "#### 2. Analiza korelacji między liczbą urodzeń a liczbą zgonów w województwach\n",
    "\n",
    "**Cel**: Zrozumienie, czy województwa z wyższą liczbą urodzeń mają również wyższą liczbę zgonów.\n",
    "\n",
    "**Dane**: „Liczba urodzeń żywych” oraz „Liczba zgonów”.\n",
    "\n",
    "**Wykres**: Wykres punktowy, gdzie oś X to liczba urodzeń, a oś Y to liczba zgonów.\n",
    "\n",
    "**Potencjalne pytanie analityczne**: Czy regiony z wyższą liczbą urodzeń mają także większą liczbę zgonów? Może to sugerować efekt demograficzny w zależności od struktury wieku populacji.\n",
    "\n",
    "#### 3. Wpływ jakości życia na demografię – analiza urodzeń, zgonów i dostępności mieszkań\n",
    "\n",
    "**Cel**: Zbadanie, jak dostępność mieszkań i jakość życia (np. dostępność kanalizacji, wodociągów) wpływają na demografię.\n",
    "\n",
    "**Dane**: „Budynki mieszkalne podłączone do kanalizacji w % ogółu budynków mieszkalnych”, „Liczba urodzeń żywych” oraz „Liczba zgonów”.\n",
    "\n",
    "**Wykres**: Wykres z wykresem regresji, który pokazuje korelację między jakością mieszkań a demografią.\n",
    "\n",
    "**Potencjalne pytanie analityczne**: Czy regiony z wyższym procentem budynków mieszkalnych podłączonych do kanalizacji mają wyższą liczbę urodzeń i mniejszą liczbę zgonów?\n",
    "\n",
    "#### 4. Badanie zależności między emigracją a poziomem wykształcenia\n",
    "**Cel**: Zidentyfikować, czy istnieje zależność między liczbą emigrantów a liczbą absolwentów szkół wyższych.\n",
    "\n",
    "**Dane**: „Liczba emigrantów na pobyt stały” oraz „Liczba absolwentów szkół wyższych”.\n",
    "\n",
    "**Wykres**: Wykres punktowy pokazujący zależność między emigracją a liczbą absolwentów.\n",
    "\n",
    "**Potencjalne pytanie analityczne**: Czy regiony z wyższym poziomem wykształcenia mają większą liczbę emigrantów?"
   ]
  },
  {
   "cell_type": "markdown",
   "id": "12a83d66-592e-476f-854b-7cd0125a410f",
   "metadata": {},
   "source": [
    "### Cześć II\n",
    "\n",
    "Dla wybranej hipotezy, dane pozyskane przez api zapisz najpierw do bazy danych (w tym\n",
    "celu opracuj jakiś schemat z jedną lub kilkoma tabelami). Następnie przeanalizuj zapisane\n",
    "dane za pomocą zapytań sql."
   ]
  }
 ],
 "metadata": {
  "kernelspec": {
   "display_name": "Python 3 (ipykernel)",
   "language": "python",
   "name": "python3"
  },
  "language_info": {
   "codemirror_mode": {
    "name": "ipython",
    "version": 3
   },
   "file_extension": ".py",
   "mimetype": "text/x-python",
   "name": "python",
   "nbconvert_exporter": "python",
   "pygments_lexer": "ipython3",
   "version": "3.12.8"
  }
 },
 "nbformat": 4,
 "nbformat_minor": 5
}
