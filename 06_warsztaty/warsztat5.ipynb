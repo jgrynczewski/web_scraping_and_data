{
 "cells": [
  {
   "cell_type": "markdown",
   "id": "23c9caf7-6357-4f63-a7b0-fd8f7c72d948",
   "metadata": {},
   "source": [
    "Napisz skrapera informacji, które są dla Ciebie interesujące. Przykłady stron:\n",
    "- https://www.esky.pl/\n",
    "- https://r.pl/\n",
    "- https://www.booking.com/\n",
    "\n",
    "Wybierz interesujące Cię parametry wycieczki/lotu/noclegu/... Ceny (lub w zależności od potrzeby inny wskaźnik) odkładaj do bazy danych. Na koniec sprawdzaj, jak ma się najnowsza cena (lub inny wskaźnik) do cen/wartości historycznych, które masz już zapisane w bazie. Jeżeli osiągnie ustalony przez Ciebie pułap wysyłaj powiadomienie (np. w postaci maila)."
   ]
  }
 ],
 "metadata": {
  "kernelspec": {
   "display_name": "Python 3 (ipykernel)",
   "language": "python",
   "name": "python3"
  },
  "language_info": {
   "codemirror_mode": {
    "name": "ipython",
    "version": 3
   },
   "file_extension": ".py",
   "mimetype": "text/x-python",
   "name": "python",
   "nbconvert_exporter": "python",
   "pygments_lexer": "ipython3",
   "version": "3.12.8"
  }
 },
 "nbformat": 4,
 "nbformat_minor": 5
}
