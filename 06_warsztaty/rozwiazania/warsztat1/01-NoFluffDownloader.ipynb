{
 "cells": [
  {
   "cell_type": "code",
   "execution_count": 13,
   "metadata": {},
   "outputs": [],
   "source": [
    "# importujemy wymagane biblioteki\n",
    "from time import sleep\n",
    "from datetime import datetime\n",
    "\n",
    "from selenium.webdriver import Edge\n",
    "from selenium.webdriver.firefox.service import Service\n",
    "\n",
    "from bs4 import BeautifulSoup"
   ]
  },
  {
   "cell_type": "code",
   "execution_count": 14,
   "metadata": {},
   "outputs": [],
   "source": [
    "def download_page(page_number: int, job_name: str) -> BeautifulSoup:\n",
    "    \"\"\"\n",
    "    Wchodzi na stronę oraz pobiera jej całkowitą zawartość\n",
    "    \"\"\"\n",
    "    global browser\n",
    "    url = 'https://nofluffjobs.com/pl/jobs/?criteria=keyword%3D\"{job_name}\"'\n",
    "    browser.get(url.format(\n",
    "        job_name=job_name,\n",
    "        page_number=page_number)\n",
    "        )\n",
    "    cockies_btn = browser.find_elements('id', 'onetrust-accept-btn-handler')\n",
    "    if len(cockies_btn) > 0 :\n",
    "        cockies_btn[0].click()\n",
    "    html = browser.page_source\n",
    "\n",
    "    return BeautifulSoup(html)"
   ]
  },
  {
   "cell_type": "code",
   "execution_count": 15,
   "metadata": {},
   "outputs": [],
   "source": [
    "def is_empty_page(page) -> bool:\n",
    "    \"\"\"\n",
    "    Sprawdza czy strona jest pusta\n",
    "    \"\"\"\n",
    "    empty_condition = page.find(id='undefinedJobs')\n",
    "\n",
    "    if empty_condition is None:\n",
    "        return True\n",
    "    else:\n",
    "        return False"
   ]
  },
  {
   "cell_type": "code",
   "execution_count": 16,
   "metadata": {},
   "outputs": [],
   "source": [
    "def get_job_offers(job_name: str) -> list:\n",
    "    \"\"\"\n",
    "    Pobiera aktualnie dostępne oferty pracy dla danego zapytania\n",
    "\n",
    "    @param job_name: zapytanie, które chcemy przeszukać\n",
    "    @returns: lista ze słownikiem {page - numer strony, job - stanowisko, html - oryginalny html strony}\n",
    "    \"\"\"\n",
    "\n",
    "    results = []  # zmienna z informacjami o stronach\n",
    "    page_number = 1\n",
    "\n",
    "    # będziemy wykonywać pętle tak długo, aż nie trafimy na pustą stronę\n",
    "    while True:  \n",
    "        # pobieramy dane dla danego zawodu oraz strony\n",
    "        bs = download_page(\n",
    "            job_name=job_name,\n",
    "            page_number=page_number)\n",
    "        \n",
    "        # sprawdzamy czy strona nie jest pusta\n",
    "        if is_empty_page(bs):\n",
    "            break\n",
    "        print(page_number)\n",
    "        print(job_name)\n",
    "        print(str(bs))\n",
    "        print(\"===============================================\")\n",
    "        \n",
    "        # pobieramy informacje o ofertach pracy\n",
    "        results.append({'page': page_number, 'job': job_name, 'html': str(bs)})\n",
    "\n",
    "        page_number += 1  # przechodzimy do kolejnej strony\n",
    "        sleep(5)  # czekamy 5 sekund przed kolejnym odpytaniem\n",
    "\n",
    "    return results"
   ]
  },
  {
   "cell_type": "code",
   "execution_count": 17,
   "metadata": {},
   "outputs": [],
   "source": [
    "jobs = ['data analyst', 'data scientist', 'data engineer']"
   ]
  },
  {
   "cell_type": "code",
   "execution_count": 18,
   "metadata": {
    "tags": []
   },
   "outputs": [],
   "source": [
    "browser = Edge()\n",
    "browser.implicitly_wait(5)\n",
    "\n",
    "# pobieramy dostępne informacje o zawodach\n",
    "data = []\n",
    "for job in jobs:\n",
    "    data += get_job_offers(job)\n",
    "browser.close()"
   ]
  },
  {
   "cell_type": "code",
   "execution_count": 7,
   "metadata": {},
   "outputs": [],
   "source": [
    "dt = datetime.now().strftime(\"%Y%m%d_%H%M%S\")\n",
    "for d in data:\n",
    "    with open(\n",
    "        '../data/raw/{job_name}_{page}_{dt}.html'.format(\n",
    "            job_name=d['job'], \n",
    "            page=d['page'], \n",
    "            dt=dt), \n",
    "        encoding='UTF-8', \n",
    "        mode='w') as f:\n",
    "        f.write(d['html'])"
   ]
  },
  {
   "cell_type": "code",
   "execution_count": 9,
   "metadata": {},
   "outputs": [
    {
     "data": {
      "text/plain": [
       "['data analyst', 'data scientist', 'data engineer']"
      ]
     },
     "execution_count": 9,
     "metadata": {},
     "output_type": "execute_result"
    }
   ],
   "source": [
    "jobs"
   ]
  },
  {
   "cell_type": "code",
   "execution_count": 21,
   "metadata": {},
   "outputs": [
    {
     "ename": "AttributeError",
     "evalue": "'WebDriver' object has no attribute 'find_element_by_css_selector'",
     "output_type": "error",
     "traceback": [
      "\u001b[1;31m---------------------------------------------------------------------------\u001b[0m",
      "\u001b[1;31mAttributeError\u001b[0m                            Traceback (most recent call last)",
      "Cell \u001b[1;32mIn[21], line 6\u001b[0m\n\u001b[0;32m      4\u001b[0m url \u001b[38;5;241m=\u001b[39m \u001b[38;5;124m'\u001b[39m\u001b[38;5;124mhttps://nofluffjobs.com/pl/jobs/?criteria=keyword\u001b[39m\u001b[38;5;124m%\u001b[39m\u001b[38;5;124m3D\u001b[39m\u001b[38;5;124m\"\u001b[39m\u001b[38;5;124mdata analyst\u001b[39m\u001b[38;5;124m\"\u001b[39m\u001b[38;5;124m'\u001b[39m\n\u001b[0;32m      5\u001b[0m browser\u001b[38;5;241m.\u001b[39mget(url)\n\u001b[1;32m----> 6\u001b[0m load_more_btn \u001b[38;5;241m=\u001b[39m \u001b[43mbrowser\u001b[49m\u001b[38;5;241;43m.\u001b[39;49m\u001b[43mfind_element_by_css_selector\u001b[49m(\u001b[38;5;124m'\u001b[39m\u001b[38;5;124mbutton[nfjloadmore]\u001b[39m\u001b[38;5;124m'\u001b[39m)  \u001b[38;5;66;03m# `button` posiadający atrybut `nfjloadmore`\u001b[39;00m\n\u001b[0;32m      7\u001b[0m \u001b[38;5;28mprint\u001b[39m(load_more_btn)\n\u001b[0;32m      8\u001b[0m load_more_btn\u001b[38;5;241m.\u001b[39mclick()\n",
      "\u001b[1;31mAttributeError\u001b[0m: 'WebDriver' object has no attribute 'find_element_by_css_selector'"
     ]
    }
   ],
   "source": [
    "browser = Edge()\n",
    "browser.implicitly_wait(5)\n",
    "\n",
    "url = 'https://nofluffjobs.com/pl/jobs/?criteria=keyword%3D\"data analyst\"'\n",
    "browser.get(url)\n",
    "load_more_btn = browser.find_element_by_css_selector('button[nfjloadmore]')  # `button` posiadający atrybut `nfjloadmore`\n",
    "print(load_more_btn)\n",
    "load_more_btn.click()\n"
   ]
  },
  {
   "cell_type": "code",
   "execution_count": null,
   "metadata": {},
   "outputs": [],
   "source": []
  }
 ],
 "metadata": {
  "kernelspec": {
   "display_name": "Python 3 (ipykernel)",
   "language": "python",
   "name": "python3"
  },
  "language_info": {
   "codemirror_mode": {
    "name": "ipython",
    "version": 3
   },
   "file_extension": ".py",
   "mimetype": "text/x-python",
   "name": "python",
   "nbconvert_exporter": "python",
   "pygments_lexer": "ipython3",
   "version": "3.12.8"
  },
  "vscode": {
   "interpreter": {
    "hash": "7487f77353c498e83946293f79e8ecc9f70d23be817cee0a9bc188df99334468"
   }
  }
 },
 "nbformat": 4,
 "nbformat_minor": 4
}
