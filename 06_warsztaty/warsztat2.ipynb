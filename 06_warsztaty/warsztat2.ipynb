{
 "cells": [
  {
   "cell_type": "markdown",
   "id": "4c7af57b-ca25-48d1-90dd-1766f6a97287",
   "metadata": {},
   "source": [
    "## NoFluffJobs"
   ]
  },
  {
   "cell_type": "markdown",
   "id": "6215eeb5-ef7c-4333-b454-a7efe017fe0a",
   "metadata": {},
   "source": [
    "### Część I\n",
    "\n",
    "Pobierz dane ze strony głównej NoFluffJobs, wykonując poniższe kroki:\n",
    "\n",
    "- Użyj Selenium (lub dowolnego innego preferowanego narzędzia), aby otworzyć stronę i pobrać jej zawartość (z uwzględnieniem paginacji).\n",
    "- Wyszukaj oferty pracy, używając fraz takich jak \"data scientist\", \"data engineer\", \"data analyst\". Pobierz wszystkie dostępne strony.\n",
    "- Zapisz strony w formacie *.html w katalogu ../data/raw jako dane źródłowe, stosując następującą konwencję nazewnictwa plików: '{job_name}_{page_number}.html'. Na przykład, plik data_analyst_1.html będzie zawierał oferty pracy dla analityków danych z pierwszej strony wyników.\n",
    "\n",
    "Pamiętaj, aby wprowadzić krótką przerwę (np. 3 sekundy) pomiędzy ładowaniem kolejnych stron.\n",
    "\n",
    "Na tym etapie zajmujemy się jedynie pobieraniem danych w ich oryginalnej formie, bez ich dalszego przetwarzania."
   ]
  },
  {
   "cell_type": "markdown",
   "id": "743c83bf-ad58-4925-80e1-a5ccc090de9a",
   "metadata": {},
   "source": [
    "#### Cześć II\n",
    "\n",
    "Na podstawie plików znajdujących się w katalogu `../data/raw`, wykonaj następujące kroki, aby wyciągnąć informacje dotyczące oferty pracy:\n",
    "\n",
    "- Lokalizacja: Zidentyfikuj miasto oraz państwo.\n",
    "- Wynagrodzenie: Wyciągnij dolną i górną granicę wynagrodzenia oraz walutę. Jeśli nie ma podanych widełek, przyjmij, że dolna granica równa się górnej.\n",
    "- Nazwa stanowiska: Określ nazwę stanowiska pracy.\n",
    "- Firma: Znajdź nazwę firmy.\n",
    "- Technologia: Zidentyfikuj technologie wymagane na stanowisku.\n",
    "\n",
    "A następnie:\n",
    "- Filtracja ofert: Wybieraj tylko te oferty, które mają wynagrodzenie wyrażone w PLN.\n",
    "- Zmiana nazw: Zmień nazwy ofert pracy oraz miasta (kolumny name oraz location_city) na małe litery.\n",
    "- Dodanie kolumny salary_avg: Oblicz średnią wynagrodzenia dla każdej oferty, biorąc pod uwagę wartości z kolumn salary_high oraz salary_low, a wynik zapisz w nowej kolumnie salary_avg.\n",
    "- Zunifikowanie nazw miast: Zmień różne wersje nazw miast na jednolitą formę, np. wroclove, wroclaw, wrocław powinny zostać ujednolicone do wrocław.\n",
    "- Uzupełnienie danych o brakującym kraju: Dla ofert, w których lokalizacja to tylko praca zdalna (kolumna location_city), a brak jest informacji o kraju (kolumna location_country), ustaw wartość \"B/D\" (brak danych) w kolumnie location_country.\n",
    "- Dodanie kolumny is_senior: Dodaj nową kolumnę is_senior, która będzie wskazywać, czy stanowisko jest seniorskie. Jeśli stanowisko zawiera słowo \"Senior\", przypisz wartość 1, w przeciwnym razie przypisz 0.\n",
    "\n",
    "Dane zapisz do bazy dany (będzie trzeba przygotować jakąś tabelkę)"
   ]
  },
  {
   "cell_type": "markdown",
   "id": "2ffeb8ec-24f6-4293-8adc-b76db2c4c047",
   "metadata": {},
   "source": [
    "#### Część III\n",
    "\n",
    "Na podstawie zapytań bazodanowych dpowiedz na następujące pytania:\n",
    "\n",
    "- Ile ofert pracy dla poszczególnego stanowiska zostało znalezione?\n",
    "- Jak kształtują się średnie zarobki dla poszczególnych zawodów?\n",
    "- W którym mieście jest najwięcej ofert pracy?\n",
    "- Gdzie jest oferowana najwyższa stawka?\n",
    "- Jaka jest różnica pomiędzy ofertą dla regular'a a seniora?\n",
    "- Jaki jest najniższy możliwy koszt zatrudnienia zespołu złożonego z data analyst, data engineer oraz data scientist?\n",
    "- Czy istnieje możliwość powołania zespołu w jednym mieście? Jeśli tak to gdzie by było najtaniej?"
   ]
  }
 ],
 "metadata": {
  "kernelspec": {
   "display_name": "Python 3 (ipykernel)",
   "language": "python",
   "name": "python3"
  },
  "language_info": {
   "codemirror_mode": {
    "name": "ipython",
    "version": 3
   },
   "file_extension": ".py",
   "mimetype": "text/x-python",
   "name": "python",
   "nbconvert_exporter": "python",
   "pygments_lexer": "ipython3",
   "version": "3.12.8"
  }
 },
 "nbformat": 4,
 "nbformat_minor": 5
}
