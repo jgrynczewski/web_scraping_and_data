{
 "cells": [
  {
   "cell_type": "markdown",
   "id": "dental-return",
   "metadata": {},
   "source": [
    "## [https://spis.ngo.pl/](https://spis.ngo.pl/)\n",
    "\n",
    "### Cześć I\n",
    "\n",
    "Pobierz informacje o organizacjach pozarządowych pod wskazaną przez użytkownika kategorią. Do wydobycia większości informacji wystarczą biblioteki `requests` i `bs4`. Potężniejsze narzędzie będzie jedynie potrzebne do odszyfrowania adresów email (np. Selenium), ponieważ są ukryte dopóki nie kliknie się w przycisk Pokaż. Informacje na temat poszczególnych organizacji należy zebrać ze strony ze szczegółami danej organizacji (np. https://spis.ngo.pl/176457-osrodek-wspierania-organizacji-pozarzadowych)."
   ]
  },
  {
   "cell_type": "markdown",
   "id": "04a1b584-1e08-43ac-91b0-417d4f1e9047",
   "metadata": {},
   "source": [
    "### Część II\n",
    "\n",
    "Zebrane dane zapisz do bazy danych. Jeżeli wpis dotyczący orgnizacji istnieje już w bazie, nadpisz go. Utwórz dwie tabelki: `organization` i `category`. Powiąż je relacją wiele do wielu. Kategorie uzupełniaj na podstawie kategorii analizowanej organizacji. Wszystkie kategorie, pod które jest podpięta dana organizacja powinny trafić do tabeli `category`. Przechowaj też samo powiązanie pomiędzy zapisanymi kategoriami i organizacjami."
   ]
  }
 ],
 "metadata": {
  "kernelspec": {
   "display_name": "Python 3 (ipykernel)",
   "language": "python",
   "name": "python3"
  },
  "language_info": {
   "codemirror_mode": {
    "name": "ipython",
    "version": 3
   },
   "file_extension": ".py",
   "mimetype": "text/x-python",
   "name": "python",
   "nbconvert_exporter": "python",
   "pygments_lexer": "ipython3",
   "version": "3.12.8"
  }
 },
 "nbformat": 4,
 "nbformat_minor": 5
}
